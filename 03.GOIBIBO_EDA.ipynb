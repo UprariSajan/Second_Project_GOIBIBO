{
 "cells": [
  {
   "cell_type": "code",
   "execution_count": 1,
   "id": "62bc8e57",
   "metadata": {},
   "outputs": [],
   "source": [
    "import numpy as np\n",
    "import pandas as pd\n",
    "import matplotlib.pyplot as plt\n",
    "import seaborn as sns"
   ]
  },
  {
   "cell_type": "code",
   "execution_count": 2,
   "id": "50a0590a",
   "metadata": {},
   "outputs": [],
   "source": [
    "hotel=pd.read_excel('goibibo_final_data.xlsx')"
   ]
  },
  {
   "cell_type": "code",
   "execution_count": 3,
   "id": "5807f59c",
   "metadata": {},
   "outputs": [
    {
     "data": {
      "text/html": [
       "<div>\n",
       "<style scoped>\n",
       "    .dataframe tbody tr th:only-of-type {\n",
       "        vertical-align: middle;\n",
       "    }\n",
       "\n",
       "    .dataframe tbody tr th {\n",
       "        vertical-align: top;\n",
       "    }\n",
       "\n",
       "    .dataframe thead th {\n",
       "        text-align: right;\n",
       "    }\n",
       "</style>\n",
       "<table border=\"1\" class=\"dataframe\">\n",
       "  <thead>\n",
       "    <tr style=\"text-align: right;\">\n",
       "      <th></th>\n",
       "      <th>Hotel Name</th>\n",
       "      <th>Location</th>\n",
       "      <th>Room Type</th>\n",
       "      <th>Rating</th>\n",
       "      <th>Total_verified_Ratings</th>\n",
       "      <th>Cancellation_Fee</th>\n",
       "      <th>Price</th>\n",
       "      <th>Offer_Price</th>\n",
       "      <th>Taxes and Fees</th>\n",
       "      <th>City</th>\n",
       "    </tr>\n",
       "  </thead>\n",
       "  <tbody>\n",
       "    <tr>\n",
       "      <th>0</th>\n",
       "      <td>Neel Clarks Inn Express</td>\n",
       "      <td>Vibhav Nagar</td>\n",
       "      <td>Deluxe Room</td>\n",
       "      <td>4.6</td>\n",
       "      <td>47</td>\n",
       "      <td>0</td>\n",
       "      <td>4999</td>\n",
       "      <td>3096</td>\n",
       "      <td>710</td>\n",
       "      <td>Agra</td>\n",
       "    </tr>\n",
       "    <tr>\n",
       "      <th>1</th>\n",
       "      <td>Courtyard by Marriott Agra</td>\n",
       "      <td>Tajganj</td>\n",
       "      <td>Deluxe Room</td>\n",
       "      <td>4.3</td>\n",
       "      <td>626</td>\n",
       "      <td>0</td>\n",
       "      <td>625</td>\n",
       "      <td>625</td>\n",
       "      <td>670</td>\n",
       "      <td>Agra</td>\n",
       "    </tr>\n",
       "    <tr>\n",
       "      <th>2</th>\n",
       "      <td>Taj Inn Hotel</td>\n",
       "      <td>Fatehabad Road</td>\n",
       "      <td>Deluxe Room</td>\n",
       "      <td>4.2</td>\n",
       "      <td>3591</td>\n",
       "      <td>0</td>\n",
       "      <td>3500</td>\n",
       "      <td>2056</td>\n",
       "      <td>524</td>\n",
       "      <td>Agra</td>\n",
       "    </tr>\n",
       "    <tr>\n",
       "      <th>3</th>\n",
       "      <td>The Taj Vilas</td>\n",
       "      <td>Civil Lines</td>\n",
       "      <td>Standard Room</td>\n",
       "      <td>4.2</td>\n",
       "      <td>4982</td>\n",
       "      <td>0</td>\n",
       "      <td>2500</td>\n",
       "      <td>2109</td>\n",
       "      <td>384</td>\n",
       "      <td>Agra</td>\n",
       "    </tr>\n",
       "    <tr>\n",
       "      <th>4</th>\n",
       "      <td>Hotel Anant Plaza</td>\n",
       "      <td>Near Agra Fort</td>\n",
       "      <td>Basic Room</td>\n",
       "      <td>4.0</td>\n",
       "      <td>1</td>\n",
       "      <td>0</td>\n",
       "      <td>999</td>\n",
       "      <td>816</td>\n",
       "      <td>186</td>\n",
       "      <td>Agra</td>\n",
       "    </tr>\n",
       "    <tr>\n",
       "      <th>5</th>\n",
       "      <td>OYO 12750 Hotel Jalsa</td>\n",
       "      <td>Fatehabad Road</td>\n",
       "      <td>Basic Room</td>\n",
       "      <td>4.0</td>\n",
       "      <td>149</td>\n",
       "      <td>0</td>\n",
       "      <td>1946</td>\n",
       "      <td>925</td>\n",
       "      <td>48</td>\n",
       "      <td>Agra</td>\n",
       "    </tr>\n",
       "    <tr>\n",
       "      <th>6</th>\n",
       "      <td>Hotel Amba Inn</td>\n",
       "      <td>Fatehabad Road</td>\n",
       "      <td>Basic Room</td>\n",
       "      <td>4.0</td>\n",
       "      <td>2</td>\n",
       "      <td>0</td>\n",
       "      <td>1599</td>\n",
       "      <td>1095</td>\n",
       "      <td>95</td>\n",
       "      <td>Agra</td>\n",
       "    </tr>\n",
       "    <tr>\n",
       "      <th>7</th>\n",
       "      <td>Hotel Taj Khema Agra</td>\n",
       "      <td>Near Agra Fort</td>\n",
       "      <td>Standard Room</td>\n",
       "      <td>4.0</td>\n",
       "      <td>1</td>\n",
       "      <td>0</td>\n",
       "      <td>1500</td>\n",
       "      <td>1442</td>\n",
       "      <td>280</td>\n",
       "      <td>Agra</td>\n",
       "    </tr>\n",
       "    <tr>\n",
       "      <th>8</th>\n",
       "      <td>Super inn Guest house</td>\n",
       "      <td>Tajganj</td>\n",
       "      <td>Basic Room</td>\n",
       "      <td>3.9</td>\n",
       "      <td>11</td>\n",
       "      <td>314</td>\n",
       "      <td>790</td>\n",
       "      <td>314</td>\n",
       "      <td>84</td>\n",
       "      <td>Agra</td>\n",
       "    </tr>\n",
       "    <tr>\n",
       "      <th>9</th>\n",
       "      <td>Hotel Dasaprakash</td>\n",
       "      <td>Mantola</td>\n",
       "      <td>Standard Room</td>\n",
       "      <td>3.9</td>\n",
       "      <td>903</td>\n",
       "      <td>0</td>\n",
       "      <td>2599</td>\n",
       "      <td>1902</td>\n",
       "      <td>483</td>\n",
       "      <td>Agra</td>\n",
       "    </tr>\n",
       "  </tbody>\n",
       "</table>\n",
       "</div>"
      ],
      "text/plain": [
       "                   Hotel Name        Location      Room Type  Rating  \\\n",
       "0     Neel Clarks Inn Express    Vibhav Nagar    Deluxe Room     4.6   \n",
       "1  Courtyard by Marriott Agra         Tajganj    Deluxe Room     4.3   \n",
       "2               Taj Inn Hotel  Fatehabad Road    Deluxe Room     4.2   \n",
       "3               The Taj Vilas     Civil Lines  Standard Room     4.2   \n",
       "4           Hotel Anant Plaza  Near Agra Fort     Basic Room     4.0   \n",
       "5       OYO 12750 Hotel Jalsa  Fatehabad Road     Basic Room     4.0   \n",
       "6              Hotel Amba Inn  Fatehabad Road     Basic Room     4.0   \n",
       "7        Hotel Taj Khema Agra  Near Agra Fort  Standard Room     4.0   \n",
       "8       Super inn Guest house         Tajganj     Basic Room     3.9   \n",
       "9           Hotel Dasaprakash         Mantola  Standard Room     3.9   \n",
       "\n",
       "   Total_verified_Ratings  Cancellation_Fee  Price  Offer_Price  \\\n",
       "0                      47                 0   4999         3096   \n",
       "1                     626                 0    625          625   \n",
       "2                    3591                 0   3500         2056   \n",
       "3                    4982                 0   2500         2109   \n",
       "4                       1                 0    999          816   \n",
       "5                     149                 0   1946          925   \n",
       "6                       2                 0   1599         1095   \n",
       "7                       1                 0   1500         1442   \n",
       "8                      11               314    790          314   \n",
       "9                     903                 0   2599         1902   \n",
       "\n",
       "   Taxes and Fees  City  \n",
       "0             710  Agra  \n",
       "1             670  Agra  \n",
       "2             524  Agra  \n",
       "3             384  Agra  \n",
       "4             186  Agra  \n",
       "5              48  Agra  \n",
       "6              95  Agra  \n",
       "7             280  Agra  \n",
       "8              84  Agra  \n",
       "9             483  Agra  "
      ]
     },
     "execution_count": 3,
     "metadata": {},
     "output_type": "execute_result"
    }
   ],
   "source": [
    "hotel.head(10)"
   ]
  },
  {
   "cell_type": "code",
   "execution_count": 4,
   "id": "3bcc1c5e",
   "metadata": {},
   "outputs": [
    {
     "data": {
      "text/plain": [
       "(1135, 10)"
      ]
     },
     "execution_count": 4,
     "metadata": {},
     "output_type": "execute_result"
    }
   ],
   "source": [
    "hotel.shape"
   ]
  },
  {
   "cell_type": "code",
   "execution_count": 5,
   "id": "56cd19b6",
   "metadata": {},
   "outputs": [
    {
     "data": {
      "text/plain": [
       "Index(['Hotel Name', 'Location', 'Room Type', 'Rating',\n",
       "       'Total_verified_Ratings', 'Cancellation_Fee', 'Price', 'Offer_Price',\n",
       "       'Taxes and Fees', 'City'],\n",
       "      dtype='object')"
      ]
     },
     "execution_count": 5,
     "metadata": {},
     "output_type": "execute_result"
    }
   ],
   "source": [
    "hotel.columns"
   ]
  },
  {
   "cell_type": "code",
   "execution_count": 6,
   "id": "a12eface",
   "metadata": {},
   "outputs": [
    {
     "name": "stdout",
     "output_type": "stream",
     "text": [
      "<class 'pandas.core.frame.DataFrame'>\n",
      "RangeIndex: 1135 entries, 0 to 1134\n",
      "Data columns (total 10 columns):\n",
      " #   Column                  Non-Null Count  Dtype  \n",
      "---  ------                  --------------  -----  \n",
      " 0   Hotel Name              1135 non-null   object \n",
      " 1   Location                1135 non-null   object \n",
      " 2   Room Type               1135 non-null   object \n",
      " 3   Rating                  1135 non-null   float64\n",
      " 4   Total_verified_Ratings  1135 non-null   int64  \n",
      " 5   Cancellation_Fee        1135 non-null   int64  \n",
      " 6   Price                   1135 non-null   int64  \n",
      " 7   Offer_Price             1135 non-null   int64  \n",
      " 8   Taxes and Fees          1135 non-null   int64  \n",
      " 9   City                    1135 non-null   object \n",
      "dtypes: float64(1), int64(5), object(4)\n",
      "memory usage: 88.8+ KB\n"
     ]
    }
   ],
   "source": [
    "hotel.info()"
   ]
  },
  {
   "cell_type": "code",
   "execution_count": 7,
   "id": "2df03d8a",
   "metadata": {},
   "outputs": [
    {
     "data": {
      "text/plain": [
       "Hotel Name                1107\n",
       "Location                   493\n",
       "Room Type                    3\n",
       "Rating                      28\n",
       "Total_verified_Ratings     694\n",
       "Cancellation_Fee            75\n",
       "Price                      392\n",
       "Offer_Price                909\n",
       "Taxes and Fees             497\n",
       "City                        43\n",
       "dtype: int64"
      ]
     },
     "execution_count": 7,
     "metadata": {},
     "output_type": "execute_result"
    }
   ],
   "source": [
    "hotel.nunique()"
   ]
  },
  {
   "cell_type": "code",
   "execution_count": 8,
   "id": "ca09a9bc",
   "metadata": {},
   "outputs": [
    {
     "data": {
      "text/plain": [
       "Hotel Name                0\n",
       "Location                  0\n",
       "Room Type                 0\n",
       "Rating                    0\n",
       "Total_verified_Ratings    0\n",
       "Cancellation_Fee          0\n",
       "Price                     0\n",
       "Offer_Price               0\n",
       "Taxes and Fees            0\n",
       "City                      0\n",
       "dtype: int64"
      ]
     },
     "execution_count": 8,
     "metadata": {},
     "output_type": "execute_result"
    }
   ],
   "source": [
    "hotel.isnull().sum()"
   ]
  },
  {
   "cell_type": "code",
   "execution_count": 9,
   "id": "5a572410",
   "metadata": {},
   "outputs": [
    {
     "data": {
      "text/plain": [
       "0"
      ]
     },
     "execution_count": 9,
     "metadata": {},
     "output_type": "execute_result"
    }
   ],
   "source": [
    "hotel.duplicated().sum()"
   ]
  },
  {
   "cell_type": "code",
   "execution_count": 10,
   "id": "b9c2f2e4",
   "metadata": {},
   "outputs": [
    {
     "data": {
      "text/html": [
       "<div>\n",
       "<style scoped>\n",
       "    .dataframe tbody tr th:only-of-type {\n",
       "        vertical-align: middle;\n",
       "    }\n",
       "\n",
       "    .dataframe tbody tr th {\n",
       "        vertical-align: top;\n",
       "    }\n",
       "\n",
       "    .dataframe thead th {\n",
       "        text-align: right;\n",
       "    }\n",
       "</style>\n",
       "<table border=\"1\" class=\"dataframe\">\n",
       "  <thead>\n",
       "    <tr style=\"text-align: right;\">\n",
       "      <th></th>\n",
       "      <th>Rating</th>\n",
       "      <th>Total_verified_Ratings</th>\n",
       "      <th>Cancellation_Fee</th>\n",
       "      <th>Price</th>\n",
       "      <th>Offer_Price</th>\n",
       "      <th>Taxes and Fees</th>\n",
       "    </tr>\n",
       "  </thead>\n",
       "  <tbody>\n",
       "    <tr>\n",
       "      <th>count</th>\n",
       "      <td>1135.000000</td>\n",
       "      <td>1135.000000</td>\n",
       "      <td>1135.000000</td>\n",
       "      <td>1135.000000</td>\n",
       "      <td>1135.000000</td>\n",
       "      <td>1135.000000</td>\n",
       "    </tr>\n",
       "    <tr>\n",
       "      <th>mean</th>\n",
       "      <td>3.902467</td>\n",
       "      <td>589.392952</td>\n",
       "      <td>47.260793</td>\n",
       "      <td>3096.838767</td>\n",
       "      <td>1990.886344</td>\n",
       "      <td>454.549780</td>\n",
       "    </tr>\n",
       "    <tr>\n",
       "      <th>std</th>\n",
       "      <td>0.392560</td>\n",
       "      <td>802.916764</td>\n",
       "      <td>170.355280</td>\n",
       "      <td>1920.302915</td>\n",
       "      <td>1310.055471</td>\n",
       "      <td>326.949312</td>\n",
       "    </tr>\n",
       "    <tr>\n",
       "      <th>min</th>\n",
       "      <td>1.300000</td>\n",
       "      <td>1.000000</td>\n",
       "      <td>0.000000</td>\n",
       "      <td>407.000000</td>\n",
       "      <td>314.000000</td>\n",
       "      <td>27.000000</td>\n",
       "    </tr>\n",
       "    <tr>\n",
       "      <th>25%</th>\n",
       "      <td>3.700000</td>\n",
       "      <td>77.000000</td>\n",
       "      <td>0.000000</td>\n",
       "      <td>1800.000000</td>\n",
       "      <td>1126.000000</td>\n",
       "      <td>258.000000</td>\n",
       "    </tr>\n",
       "    <tr>\n",
       "      <th>50%</th>\n",
       "      <td>3.900000</td>\n",
       "      <td>282.000000</td>\n",
       "      <td>0.000000</td>\n",
       "      <td>2600.000000</td>\n",
       "      <td>1673.000000</td>\n",
       "      <td>374.000000</td>\n",
       "    </tr>\n",
       "    <tr>\n",
       "      <th>75%</th>\n",
       "      <td>4.150000</td>\n",
       "      <td>770.500000</td>\n",
       "      <td>0.000000</td>\n",
       "      <td>3800.000000</td>\n",
       "      <td>2409.000000</td>\n",
       "      <td>553.500000</td>\n",
       "    </tr>\n",
       "    <tr>\n",
       "      <th>max</th>\n",
       "      <td>4.900000</td>\n",
       "      <td>5845.000000</td>\n",
       "      <td>1020.000000</td>\n",
       "      <td>15000.000000</td>\n",
       "      <td>9780.000000</td>\n",
       "      <td>2618.000000</td>\n",
       "    </tr>\n",
       "  </tbody>\n",
       "</table>\n",
       "</div>"
      ],
      "text/plain": [
       "            Rating  Total_verified_Ratings  Cancellation_Fee         Price  \\\n",
       "count  1135.000000             1135.000000       1135.000000   1135.000000   \n",
       "mean      3.902467              589.392952         47.260793   3096.838767   \n",
       "std       0.392560              802.916764        170.355280   1920.302915   \n",
       "min       1.300000                1.000000          0.000000    407.000000   \n",
       "25%       3.700000               77.000000          0.000000   1800.000000   \n",
       "50%       3.900000              282.000000          0.000000   2600.000000   \n",
       "75%       4.150000              770.500000          0.000000   3800.000000   \n",
       "max       4.900000             5845.000000       1020.000000  15000.000000   \n",
       "\n",
       "       Offer_Price  Taxes and Fees  \n",
       "count  1135.000000     1135.000000  \n",
       "mean   1990.886344      454.549780  \n",
       "std    1310.055471      326.949312  \n",
       "min     314.000000       27.000000  \n",
       "25%    1126.000000      258.000000  \n",
       "50%    1673.000000      374.000000  \n",
       "75%    2409.000000      553.500000  \n",
       "max    9780.000000     2618.000000  "
      ]
     },
     "execution_count": 10,
     "metadata": {},
     "output_type": "execute_result"
    }
   ],
   "source": [
    "hotel.describe()\n"
   ]
  },
  {
   "cell_type": "code",
   "execution_count": 18,
   "id": "cac8537d",
   "metadata": {},
   "outputs": [
    {
     "data": {
      "text/html": [
       "<div>\n",
       "<style scoped>\n",
       "    .dataframe tbody tr th:only-of-type {\n",
       "        vertical-align: middle;\n",
       "    }\n",
       "\n",
       "    .dataframe tbody tr th {\n",
       "        vertical-align: top;\n",
       "    }\n",
       "\n",
       "    .dataframe thead th {\n",
       "        text-align: right;\n",
       "    }\n",
       "</style>\n",
       "<table border=\"1\" class=\"dataframe\">\n",
       "  <thead>\n",
       "    <tr style=\"text-align: right;\">\n",
       "      <th></th>\n",
       "      <th>Rating</th>\n",
       "      <th>Total_verified_Ratings</th>\n",
       "      <th>Cancellation_Fee</th>\n",
       "      <th>Price</th>\n",
       "      <th>Offer_Price</th>\n",
       "      <th>Taxes and Fees</th>\n",
       "      <th>Discount</th>\n",
       "      <th>Total_Price</th>\n",
       "    </tr>\n",
       "  </thead>\n",
       "  <tbody>\n",
       "    <tr>\n",
       "      <th>Rating</th>\n",
       "      <td>1.000000</td>\n",
       "      <td>0.052480</td>\n",
       "      <td>-0.126819</td>\n",
       "      <td>0.180022</td>\n",
       "      <td>0.168444</td>\n",
       "      <td>0.171887</td>\n",
       "      <td>0.106000</td>\n",
       "      <td>0.172162</td>\n",
       "    </tr>\n",
       "    <tr>\n",
       "      <th>Total_verified_Ratings</th>\n",
       "      <td>0.052480</td>\n",
       "      <td>1.000000</td>\n",
       "      <td>0.042455</td>\n",
       "      <td>0.047291</td>\n",
       "      <td>-0.012957</td>\n",
       "      <td>-0.044579</td>\n",
       "      <td>0.091385</td>\n",
       "      <td>-0.019618</td>\n",
       "    </tr>\n",
       "    <tr>\n",
       "      <th>Cancellation_Fee</th>\n",
       "      <td>-0.126819</td>\n",
       "      <td>0.042455</td>\n",
       "      <td>1.000000</td>\n",
       "      <td>-0.232187</td>\n",
       "      <td>-0.278399</td>\n",
       "      <td>-0.243565</td>\n",
       "      <td>-0.068802</td>\n",
       "      <td>-0.276306</td>\n",
       "    </tr>\n",
       "    <tr>\n",
       "      <th>Price</th>\n",
       "      <td>0.180022</td>\n",
       "      <td>0.047291</td>\n",
       "      <td>-0.232187</td>\n",
       "      <td>1.000000</td>\n",
       "      <td>0.797514</td>\n",
       "      <td>0.720076</td>\n",
       "      <td>0.742284</td>\n",
       "      <td>0.796062</td>\n",
       "    </tr>\n",
       "    <tr>\n",
       "      <th>Offer_Price</th>\n",
       "      <td>0.168444</td>\n",
       "      <td>-0.012957</td>\n",
       "      <td>-0.278399</td>\n",
       "      <td>0.797514</td>\n",
       "      <td>1.000000</td>\n",
       "      <td>0.890829</td>\n",
       "      <td>0.187720</td>\n",
       "      <td>0.995725</td>\n",
       "    </tr>\n",
       "    <tr>\n",
       "      <th>Taxes and Fees</th>\n",
       "      <td>0.171887</td>\n",
       "      <td>-0.044579</td>\n",
       "      <td>-0.243565</td>\n",
       "      <td>0.720076</td>\n",
       "      <td>0.890829</td>\n",
       "      <td>1.000000</td>\n",
       "      <td>0.182900</td>\n",
       "      <td>0.928987</td>\n",
       "    </tr>\n",
       "    <tr>\n",
       "      <th>Discount</th>\n",
       "      <td>0.106000</td>\n",
       "      <td>0.091385</td>\n",
       "      <td>-0.068802</td>\n",
       "      <td>0.742284</td>\n",
       "      <td>0.187720</td>\n",
       "      <td>0.182900</td>\n",
       "      <td>1.000000</td>\n",
       "      <td>0.190104</td>\n",
       "    </tr>\n",
       "    <tr>\n",
       "      <th>Total_Price</th>\n",
       "      <td>0.172162</td>\n",
       "      <td>-0.019618</td>\n",
       "      <td>-0.276306</td>\n",
       "      <td>0.796062</td>\n",
       "      <td>0.995725</td>\n",
       "      <td>0.928987</td>\n",
       "      <td>0.190104</td>\n",
       "      <td>1.000000</td>\n",
       "    </tr>\n",
       "  </tbody>\n",
       "</table>\n",
       "</div>"
      ],
      "text/plain": [
       "                          Rating  Total_verified_Ratings  Cancellation_Fee  \\\n",
       "Rating                  1.000000                0.052480         -0.126819   \n",
       "Total_verified_Ratings  0.052480                1.000000          0.042455   \n",
       "Cancellation_Fee       -0.126819                0.042455          1.000000   \n",
       "Price                   0.180022                0.047291         -0.232187   \n",
       "Offer_Price             0.168444               -0.012957         -0.278399   \n",
       "Taxes and Fees          0.171887               -0.044579         -0.243565   \n",
       "Discount                0.106000                0.091385         -0.068802   \n",
       "Total_Price             0.172162               -0.019618         -0.276306   \n",
       "\n",
       "                           Price  Offer_Price  Taxes and Fees  Discount  \\\n",
       "Rating                  0.180022     0.168444        0.171887  0.106000   \n",
       "Total_verified_Ratings  0.047291    -0.012957       -0.044579  0.091385   \n",
       "Cancellation_Fee       -0.232187    -0.278399       -0.243565 -0.068802   \n",
       "Price                   1.000000     0.797514        0.720076  0.742284   \n",
       "Offer_Price             0.797514     1.000000        0.890829  0.187720   \n",
       "Taxes and Fees          0.720076     0.890829        1.000000  0.182900   \n",
       "Discount                0.742284     0.187720        0.182900  1.000000   \n",
       "Total_Price             0.796062     0.995725        0.928987  0.190104   \n",
       "\n",
       "                        Total_Price  \n",
       "Rating                     0.172162  \n",
       "Total_verified_Ratings    -0.019618  \n",
       "Cancellation_Fee          -0.276306  \n",
       "Price                      0.796062  \n",
       "Offer_Price                0.995725  \n",
       "Taxes and Fees             0.928987  \n",
       "Discount                   0.190104  \n",
       "Total_Price                1.000000  "
      ]
     },
     "execution_count": 18,
     "metadata": {},
     "output_type": "execute_result"
    }
   ],
   "source": [
    "corelation=hotel.corr()\n",
    "corelation"
   ]
  },
  {
   "cell_type": "code",
   "execution_count": 19,
   "id": "dfcdc0a6",
   "metadata": {},
   "outputs": [
    {
     "data": {
      "image/png": "[encoded data removed]",
      "text/plain": [
       "<Figure size 432x288 with 2 Axes>"
      ]
     },
     "metadata": {
      "needs_background": "light"
     },
     "output_type": "display_data"
    }
   ],
   "source": [
    "sns.heatmap(corelation,annot=True,cmap='RdYlGn')\n",
    "plt.yticks(rotation=0,fontsize=14)\n",
    "plt.xticks(rotation=90,fontsize=14)\n",
    "plt.show()"
   ]
  },
  {
   "cell_type": "code",
   "execution_count": 20,
   "id": "c48d3305",
   "metadata": {},
   "outputs": [],
   "source": [
    "# sns.pairplot(hotel,hue='Room Type')\n",
    "# plt.show()"
   ]
  },
  {
   "cell_type": "markdown",
   "id": "b9a740d5",
   "metadata": {},
   "source": [
    "Feature Engineering"
   ]
  },
  {
   "cell_type": "code",
   "execution_count": 21,
   "id": "e01e19c2",
   "metadata": {},
   "outputs": [],
   "source": [
    "hotel['Discount']=hotel['Price']-hotel['Offer_Price']"
   ]
  },
  {
   "cell_type": "code",
   "execution_count": 22,
   "id": "9b778190",
   "metadata": {},
   "outputs": [],
   "source": [
    "hotel['Total_Price']=hotel['Offer_Price']+hotel['Taxes and Fees']"
   ]
  },
  {
   "cell_type": "code",
   "execution_count": 23,
   "id": "14f97864",
   "metadata": {},
   "outputs": [
    {
     "data": {
      "text/html": [
       "<div>\n",
       "<style scoped>\n",
       "    .dataframe tbody tr th:only-of-type {\n",
       "        vertical-align: middle;\n",
       "    }\n",
       "\n",
       "    .dataframe tbody tr th {\n",
       "        vertical-align: top;\n",
       "    }\n",
       "\n",
       "    .dataframe thead th {\n",
       "        text-align: right;\n",
       "    }\n",
       "</style>\n",
       "<table border=\"1\" class=\"dataframe\">\n",
       "  <thead>\n",
       "    <tr style=\"text-align: right;\">\n",
       "      <th></th>\n",
       "      <th>Hotel Name</th>\n",
       "      <th>Location</th>\n",
       "      <th>Room Type</th>\n",
       "      <th>Rating</th>\n",
       "      <th>Total_verified_Ratings</th>\n",
       "      <th>Cancellation_Fee</th>\n",
       "      <th>Price</th>\n",
       "      <th>Offer_Price</th>\n",
       "      <th>Taxes and Fees</th>\n",
       "      <th>City</th>\n",
       "      <th>Discount</th>\n",
       "      <th>Total_Price</th>\n",
       "    </tr>\n",
       "  </thead>\n",
       "  <tbody>\n",
       "    <tr>\n",
       "      <th>0</th>\n",
       "      <td>Neel Clarks Inn Express</td>\n",
       "      <td>Vibhav Nagar</td>\n",
       "      <td>Deluxe Room</td>\n",
       "      <td>4.6</td>\n",
       "      <td>47</td>\n",
       "      <td>0</td>\n",
       "      <td>4999</td>\n",
       "      <td>3096</td>\n",
       "      <td>710</td>\n",
       "      <td>Agra</td>\n",
       "      <td>1903</td>\n",
       "      <td>3806</td>\n",
       "    </tr>\n",
       "    <tr>\n",
       "      <th>1</th>\n",
       "      <td>Courtyard by Marriott Agra</td>\n",
       "      <td>Tajganj</td>\n",
       "      <td>Deluxe Room</td>\n",
       "      <td>4.3</td>\n",
       "      <td>626</td>\n",
       "      <td>0</td>\n",
       "      <td>625</td>\n",
       "      <td>625</td>\n",
       "      <td>670</td>\n",
       "      <td>Agra</td>\n",
       "      <td>0</td>\n",
       "      <td>1295</td>\n",
       "    </tr>\n",
       "    <tr>\n",
       "      <th>2</th>\n",
       "      <td>Taj Inn Hotel</td>\n",
       "      <td>Fatehabad Road</td>\n",
       "      <td>Deluxe Room</td>\n",
       "      <td>4.2</td>\n",
       "      <td>3591</td>\n",
       "      <td>0</td>\n",
       "      <td>3500</td>\n",
       "      <td>2056</td>\n",
       "      <td>524</td>\n",
       "      <td>Agra</td>\n",
       "      <td>1444</td>\n",
       "      <td>2580</td>\n",
       "    </tr>\n",
       "    <tr>\n",
       "      <th>3</th>\n",
       "      <td>The Taj Vilas</td>\n",
       "      <td>Civil Lines</td>\n",
       "      <td>Standard Room</td>\n",
       "      <td>4.2</td>\n",
       "      <td>4982</td>\n",
       "      <td>0</td>\n",
       "      <td>2500</td>\n",
       "      <td>2109</td>\n",
       "      <td>384</td>\n",
       "      <td>Agra</td>\n",
       "      <td>391</td>\n",
       "      <td>2493</td>\n",
       "    </tr>\n",
       "    <tr>\n",
       "      <th>4</th>\n",
       "      <td>Hotel Anant Plaza</td>\n",
       "      <td>Near Agra Fort</td>\n",
       "      <td>Basic Room</td>\n",
       "      <td>4.0</td>\n",
       "      <td>1</td>\n",
       "      <td>0</td>\n",
       "      <td>999</td>\n",
       "      <td>816</td>\n",
       "      <td>186</td>\n",
       "      <td>Agra</td>\n",
       "      <td>183</td>\n",
       "      <td>1002</td>\n",
       "    </tr>\n",
       "  </tbody>\n",
       "</table>\n",
       "</div>"
      ],
      "text/plain": [
       "                   Hotel Name        Location      Room Type  Rating  \\\n",
       "0     Neel Clarks Inn Express    Vibhav Nagar    Deluxe Room     4.6   \n",
       "1  Courtyard by Marriott Agra         Tajganj    Deluxe Room     4.3   \n",
       "2               Taj Inn Hotel  Fatehabad Road    Deluxe Room     4.2   \n",
       "3               The Taj Vilas     Civil Lines  Standard Room     4.2   \n",
       "4           Hotel Anant Plaza  Near Agra Fort     Basic Room     4.0   \n",
       "\n",
       "   Total_verified_Ratings  Cancellation_Fee  Price  Offer_Price  \\\n",
       "0                      47                 0   4999         3096   \n",
       "1                     626                 0    625          625   \n",
       "2                    3591                 0   3500         2056   \n",
       "3                    4982                 0   2500         2109   \n",
       "4                       1                 0    999          816   \n",
       "\n",
       "   Taxes and Fees  City  Discount  Total_Price  \n",
       "0             710  Agra      1903         3806  \n",
       "1             670  Agra         0         1295  \n",
       "2             524  Agra      1444         2580  \n",
       "3             384  Agra       391         2493  \n",
       "4             186  Agra       183         1002  "
      ]
     },
     "execution_count": 23,
     "metadata": {},
     "output_type": "execute_result"
    }
   ],
   "source": [
    "hotel.head()"
   ]
  },
  {
   "cell_type": "code",
   "execution_count": 24,
   "id": "4175af69",
   "metadata": {},
   "outputs": [
    {
     "data": {
      "text/plain": [
       "(1135, 12)"
      ]
     },
     "execution_count": 24,
     "metadata": {},
     "output_type": "execute_result"
    }
   ],
   "source": [
    "hotel.shape"
   ]
  },
  {
   "cell_type": "markdown",
   "id": "38de5950",
   "metadata": {},
   "source": [
    "# List of Top 10 Best rated hotels"
   ]
  },
  {
   "cell_type": "code",
   "execution_count": 25,
   "id": "a8e1730b",
   "metadata": {},
   "outputs": [
    {
     "data": {
      "text/html": [
       "<div>\n",
       "<style scoped>\n",
       "    .dataframe tbody tr th:only-of-type {\n",
       "        vertical-align: middle;\n",
       "    }\n",
       "\n",
       "    .dataframe tbody tr th {\n",
       "        vertical-align: top;\n",
       "    }\n",
       "\n",
       "    .dataframe thead th {\n",
       "        text-align: right;\n",
       "    }\n",
       "</style>\n",
       "<table border=\"1\" class=\"dataframe\">\n",
       "  <thead>\n",
       "    <tr style=\"text-align: right;\">\n",
       "      <th></th>\n",
       "      <th>Rating</th>\n",
       "      <th>Hotel Name</th>\n",
       "      <th>Location</th>\n",
       "    </tr>\n",
       "  </thead>\n",
       "  <tbody>\n",
       "    <tr>\n",
       "      <th>121</th>\n",
       "      <td>4.9</td>\n",
       "      <td>Le Grace Residency</td>\n",
       "      <td>Mount road</td>\n",
       "    </tr>\n",
       "    <tr>\n",
       "      <th>608</th>\n",
       "      <td>4.9</td>\n",
       "      <td>Cafe Chalte Chalte</td>\n",
       "      <td>Kothi</td>\n",
       "    </tr>\n",
       "    <tr>\n",
       "      <th>202</th>\n",
       "      <td>4.8</td>\n",
       "      <td>Muscatel BhumSang</td>\n",
       "      <td>Gandhi Road</td>\n",
       "    </tr>\n",
       "    <tr>\n",
       "      <th>227</th>\n",
       "      <td>4.8</td>\n",
       "      <td>Hotel Festival</td>\n",
       "      <td>Mahipalpur</td>\n",
       "    </tr>\n",
       "    <tr>\n",
       "      <th>583</th>\n",
       "      <td>4.8</td>\n",
       "      <td>Hotel Savera</td>\n",
       "      <td>Old Mahabaleshwar</td>\n",
       "    </tr>\n",
       "    <tr>\n",
       "      <th>500</th>\n",
       "      <td>4.8</td>\n",
       "      <td>Maa Arya</td>\n",
       "      <td>Near Charbagh Railway Station</td>\n",
       "    </tr>\n",
       "    <tr>\n",
       "      <th>450</th>\n",
       "      <td>4.8</td>\n",
       "      <td>OYO Flagship 92932 Tumpa Inn</td>\n",
       "      <td>New Town</td>\n",
       "    </tr>\n",
       "    <tr>\n",
       "      <th>609</th>\n",
       "      <td>4.7</td>\n",
       "      <td>Kalista Resort - Your home in Mountains</td>\n",
       "      <td>Near Nehru Kund</td>\n",
       "    </tr>\n",
       "    <tr>\n",
       "      <th>816</th>\n",
       "      <td>4.7</td>\n",
       "      <td>La Taara Beach Resort</td>\n",
       "      <td>Saram</td>\n",
       "    </tr>\n",
       "    <tr>\n",
       "      <th>1024</th>\n",
       "      <td>4.7</td>\n",
       "      <td>Hotel Kalika Palace</td>\n",
       "      <td>Fateh Sagar Lake</td>\n",
       "    </tr>\n",
       "  </tbody>\n",
       "</table>\n",
       "</div>"
      ],
      "text/plain": [
       "      Rating                               Hotel Name  \\\n",
       "121      4.9                       Le Grace Residency   \n",
       "608      4.9                       Cafe Chalte Chalte   \n",
       "202      4.8                        Muscatel BhumSang   \n",
       "227      4.8                           Hotel Festival   \n",
       "583      4.8                             Hotel Savera   \n",
       "500      4.8                                 Maa Arya   \n",
       "450      4.8             OYO Flagship 92932 Tumpa Inn   \n",
       "609      4.7  Kalista Resort - Your home in Mountains   \n",
       "816      4.7                    La Taara Beach Resort   \n",
       "1024     4.7                      Hotel Kalika Palace   \n",
       "\n",
       "                           Location  \n",
       "121                      Mount road  \n",
       "608                           Kothi  \n",
       "202                     Gandhi Road  \n",
       "227                      Mahipalpur  \n",
       "583               Old Mahabaleshwar  \n",
       "500   Near Charbagh Railway Station  \n",
       "450                        New Town  \n",
       "609                 Near Nehru Kund  \n",
       "816                           Saram  \n",
       "1024               Fateh Sagar Lake  "
      ]
     },
     "execution_count": 25,
     "metadata": {},
     "output_type": "execute_result"
    }
   ],
   "source": [
    "hotel[['Rating','Hotel Name','Location']].sort_values('Rating',ascending=False).head(10)"
   ]
  },
  {
   "cell_type": "markdown",
   "id": "e32f41a5",
   "metadata": {},
   "source": [
    "# # List of  10 Least rated hotels"
   ]
  },
  {
   "cell_type": "code",
   "execution_count": 26,
   "id": "972da280",
   "metadata": {},
   "outputs": [
    {
     "data": {
      "text/html": [
       "<div>\n",
       "<style scoped>\n",
       "    .dataframe tbody tr th:only-of-type {\n",
       "        vertical-align: middle;\n",
       "    }\n",
       "\n",
       "    .dataframe tbody tr th {\n",
       "        vertical-align: top;\n",
       "    }\n",
       "\n",
       "    .dataframe thead th {\n",
       "        text-align: right;\n",
       "    }\n",
       "</style>\n",
       "<table border=\"1\" class=\"dataframe\">\n",
       "  <thead>\n",
       "    <tr style=\"text-align: right;\">\n",
       "      <th></th>\n",
       "      <th>Rating</th>\n",
       "      <th>Hotel Name</th>\n",
       "      <th>Location</th>\n",
       "    </tr>\n",
       "  </thead>\n",
       "  <tbody>\n",
       "    <tr>\n",
       "      <th>390</th>\n",
       "      <td>1.3</td>\n",
       "      <td>Hotel Royal Residency Secunderabad</td>\n",
       "      <td>Shivaji Nagar</td>\n",
       "    </tr>\n",
       "    <tr>\n",
       "      <th>472</th>\n",
       "      <td>1.5</td>\n",
       "      <td>WISE OWL COMFOTEL</td>\n",
       "      <td>Near Kolkata Airport</td>\n",
       "    </tr>\n",
       "    <tr>\n",
       "      <th>388</th>\n",
       "      <td>2.3</td>\n",
       "      <td>Hotel Urvasi</td>\n",
       "      <td>Somajiguda</td>\n",
       "    </tr>\n",
       "    <tr>\n",
       "      <th>389</th>\n",
       "      <td>2.3</td>\n",
       "      <td>The Landmark Banjara Hills</td>\n",
       "      <td>Banjara Hills</td>\n",
       "    </tr>\n",
       "    <tr>\n",
       "      <th>387</th>\n",
       "      <td>2.4</td>\n",
       "      <td>Elite Home's</td>\n",
       "      <td>Chitrapuri Colony</td>\n",
       "    </tr>\n",
       "    <tr>\n",
       "      <th>661</th>\n",
       "      <td>2.4</td>\n",
       "      <td>Hotel Dev Residency, 350 Meters from Nakki lake</td>\n",
       "      <td>Near Mount Abu Bus Stand</td>\n",
       "    </tr>\n",
       "    <tr>\n",
       "      <th>524</th>\n",
       "      <td>2.4</td>\n",
       "      <td>HOTEL VAIBHAV INN</td>\n",
       "      <td>Gomti Nagar</td>\n",
       "    </tr>\n",
       "    <tr>\n",
       "      <th>386</th>\n",
       "      <td>2.5</td>\n",
       "      <td>OYO 2006 Alpine Glow Sunrise</td>\n",
       "      <td>Begumpet</td>\n",
       "    </tr>\n",
       "    <tr>\n",
       "      <th>746</th>\n",
       "      <td>2.6</td>\n",
       "      <td>Snow View Huts</td>\n",
       "      <td>Mallital</td>\n",
       "    </tr>\n",
       "    <tr>\n",
       "      <th>51</th>\n",
       "      <td>2.6</td>\n",
       "      <td>Hotel Royal Platinum.</td>\n",
       "      <td>Thaltej</td>\n",
       "    </tr>\n",
       "  </tbody>\n",
       "</table>\n",
       "</div>"
      ],
      "text/plain": [
       "     Rating                                       Hotel Name  \\\n",
       "390     1.3               Hotel Royal Residency Secunderabad   \n",
       "472     1.5                                WISE OWL COMFOTEL   \n",
       "388     2.3                                     Hotel Urvasi   \n",
       "389     2.3                       The Landmark Banjara Hills   \n",
       "387     2.4                                     Elite Home's   \n",
       "661     2.4  Hotel Dev Residency, 350 Meters from Nakki lake   \n",
       "524     2.4                                HOTEL VAIBHAV INN   \n",
       "386     2.5                     OYO 2006 Alpine Glow Sunrise   \n",
       "746     2.6                                   Snow View Huts   \n",
       "51      2.6                            Hotel Royal Platinum.   \n",
       "\n",
       "                     Location  \n",
       "390             Shivaji Nagar  \n",
       "472      Near Kolkata Airport  \n",
       "388                Somajiguda  \n",
       "389             Banjara Hills  \n",
       "387         Chitrapuri Colony  \n",
       "661  Near Mount Abu Bus Stand  \n",
       "524               Gomti Nagar  \n",
       "386                  Begumpet  \n",
       "746                  Mallital  \n",
       "51                    Thaltej  "
      ]
     },
     "execution_count": 26,
     "metadata": {},
     "output_type": "execute_result"
    }
   ],
   "source": [
    "hotel[['Rating','Hotel Name','Location']].sort_values('Rating').head(10)"
   ]
  },
  {
   "cell_type": "markdown",
   "id": "6f3db967",
   "metadata": {},
   "source": [
    "# List of hotel which rated by the maximum customers"
   ]
  },
  {
   "cell_type": "code",
   "execution_count": 27,
   "id": "c69e36e2",
   "metadata": {},
   "outputs": [
    {
     "data": {
      "text/html": [
       "<div>\n",
       "<style scoped>\n",
       "    .dataframe tbody tr th:only-of-type {\n",
       "        vertical-align: middle;\n",
       "    }\n",
       "\n",
       "    .dataframe tbody tr th {\n",
       "        vertical-align: top;\n",
       "    }\n",
       "\n",
       "    .dataframe thead th {\n",
       "        text-align: right;\n",
       "    }\n",
       "</style>\n",
       "<table border=\"1\" class=\"dataframe\">\n",
       "  <thead>\n",
       "    <tr style=\"text-align: right;\">\n",
       "      <th></th>\n",
       "      <th>Total_verified_Ratings</th>\n",
       "      <th>Hotel Name</th>\n",
       "      <th>Location</th>\n",
       "      <th>Room Type</th>\n",
       "    </tr>\n",
       "  </thead>\n",
       "  <tbody>\n",
       "    <tr>\n",
       "      <th>402</th>\n",
       "      <td>5845</td>\n",
       "      <td>Hotel Gandharva - A Green Hotel</td>\n",
       "      <td>Sindhi Camp</td>\n",
       "      <td>Deluxe Room</td>\n",
       "    </tr>\n",
       "    <tr>\n",
       "      <th>560</th>\n",
       "      <td>5633</td>\n",
       "      <td>Hotel Vijay</td>\n",
       "      <td>Madurai Main</td>\n",
       "      <td>Basic Room</td>\n",
       "    </tr>\n",
       "    <tr>\n",
       "      <th>416</th>\n",
       "      <td>5236</td>\n",
       "      <td>Renest Jaipur- Souvenir Premier</td>\n",
       "      <td>Mansarovar</td>\n",
       "      <td>Standard Room</td>\n",
       "    </tr>\n",
       "    <tr>\n",
       "      <th>135</th>\n",
       "      <td>4999</td>\n",
       "      <td>Grand Cascade</td>\n",
       "      <td>Poongavanapuram</td>\n",
       "      <td>Standard Room</td>\n",
       "    </tr>\n",
       "    <tr>\n",
       "      <th>3</th>\n",
       "      <td>4982</td>\n",
       "      <td>The Taj Vilas</td>\n",
       "      <td>Civil Lines</td>\n",
       "      <td>Standard Room</td>\n",
       "    </tr>\n",
       "  </tbody>\n",
       "</table>\n",
       "</div>"
      ],
      "text/plain": [
       "     Total_verified_Ratings                       Hotel Name         Location  \\\n",
       "402                    5845  Hotel Gandharva - A Green Hotel      Sindhi Camp   \n",
       "560                    5633                      Hotel Vijay     Madurai Main   \n",
       "416                    5236  Renest Jaipur- Souvenir Premier       Mansarovar   \n",
       "135                    4999                    Grand Cascade  Poongavanapuram   \n",
       "3                      4982                    The Taj Vilas      Civil Lines   \n",
       "\n",
       "         Room Type  \n",
       "402    Deluxe Room  \n",
       "560     Basic Room  \n",
       "416  Standard Room  \n",
       "135  Standard Room  \n",
       "3    Standard Room  "
      ]
     },
     "execution_count": 27,
     "metadata": {},
     "output_type": "execute_result"
    }
   ],
   "source": [
    "top_rated=hotel[['Total_verified_Ratings','Hotel Name','Location','Room Type']].sort_values('Total_verified_Ratings',ascending=False).head(5)\n",
    "top_rated"
   ]
  },
  {
   "cell_type": "code",
   "execution_count": 28,
   "id": "665316d0",
   "metadata": {},
   "outputs": [
    {
     "data": {
      "image/png": "[encoded data removed]",
      "text/plain": [
       "<Figure size 648x360 with 1 Axes>"
      ]
     },
     "metadata": {
      "needs_background": "light"
     },
     "output_type": "display_data"
    }
   ],
   "source": [
    "plt.figure(figsize=(9,5))\n",
    "sns.barplot(x = 'Total_verified_Ratings',y='Hotel Name',hue = 'Room Type', data = top_rated, palette='pastel',orient = 'h')\n",
    "sns.set(font_scale = 1.2)\n",
    "plt.xlabel('Products',fontsize=15,color='teal')\n",
    "plt.ylabel('Quantity',fontsize=15,color='teal')\n",
    "plt.legend(loc='lower right')\n",
    "plt.show()\n"
   ]
  },
  {
   "cell_type": "markdown",
   "id": "d8e3dda5",
   "metadata": {},
   "source": [
    "#  Total rooms"
   ]
  },
  {
   "cell_type": "code",
   "execution_count": 83,
   "id": "9234e6af",
   "metadata": {},
   "outputs": [
    {
     "data": {
      "text/html": [
       "<div>\n",
       "<style scoped>\n",
       "    .dataframe tbody tr th:only-of-type {\n",
       "        vertical-align: middle;\n",
       "    }\n",
       "\n",
       "    .dataframe tbody tr th {\n",
       "        vertical-align: top;\n",
       "    }\n",
       "\n",
       "    .dataframe thead th {\n",
       "        text-align: right;\n",
       "    }\n",
       "</style>\n",
       "<table border=\"1\" class=\"dataframe\">\n",
       "  <thead>\n",
       "    <tr style=\"text-align: right;\">\n",
       "      <th></th>\n",
       "      <th>Room Type</th>\n",
       "      <th>Total Count</th>\n",
       "    </tr>\n",
       "  </thead>\n",
       "  <tbody>\n",
       "    <tr>\n",
       "      <th>0</th>\n",
       "      <td>Basic Room</td>\n",
       "      <td>404</td>\n",
       "    </tr>\n",
       "    <tr>\n",
       "      <th>1</th>\n",
       "      <td>Deluxe Room</td>\n",
       "      <td>278</td>\n",
       "    </tr>\n",
       "    <tr>\n",
       "      <th>2</th>\n",
       "      <td>Standard Room</td>\n",
       "      <td>453</td>\n",
       "    </tr>\n",
       "  </tbody>\n",
       "</table>\n",
       "</div>"
      ],
      "text/plain": [
       "       Room Type  Total Count\n",
       "0     Basic Room          404\n",
       "1    Deluxe Room          278\n",
       "2  Standard Room          453"
      ]
     },
     "execution_count": 83,
     "metadata": {},
     "output_type": "execute_result"
    }
   ],
   "source": [
    "room_types=hotel.groupby('Room Type')['Hotel Name'].count().reset_index().rename(columns={'Hotel Name':'Total Count'})\n",
    "room_types"
   ]
  },
  {
   "cell_type": "code",
   "execution_count": 85,
   "id": "1a1f56e1",
   "metadata": {},
   "outputs": [
    {
     "data": {
      "image/png": "[encoded data removed]",
      "text/plain": [
       "<Figure size 468x432 with 1 Axes>"
      ]
     },
     "metadata": {},
     "output_type": "display_data"
    }
   ],
   "source": [
    "color=['firebrick','dimgray','forestgreen']\n",
    "room_types.plot.bar(x='Room Type',y='Total Count',fontsize=13,color=color,figsize=(6.5,6))\n",
    "plt.xlabel('Room Type',fontsize=16,color='darkgreen')\n",
    "plt.ylabel('Total Count',fontsize=16,color='darkgreen')\n",
    "plt.xticks(rotation=45)\n",
    "plt.legend().remove()\n",
    "plt.show()"
   ]
  },
  {
   "cell_type": "markdown",
   "id": "de8f0ca4",
   "metadata": {},
   "source": [
    "Standard Room type has the maximum listing."
   ]
  },
  {
   "cell_type": "markdown",
   "id": "564ce7b3",
   "metadata": {},
   "source": [
    "# Find the average cost pay by the customer by room types for per day."
   ]
  },
  {
   "cell_type": "code",
   "execution_count": 31,
   "id": "e605037b",
   "metadata": {},
   "outputs": [
    {
     "data": {
      "text/html": [
       "<div>\n",
       "<style scoped>\n",
       "    .dataframe tbody tr th:only-of-type {\n",
       "        vertical-align: middle;\n",
       "    }\n",
       "\n",
       "    .dataframe tbody tr th {\n",
       "        vertical-align: top;\n",
       "    }\n",
       "\n",
       "    .dataframe thead th {\n",
       "        text-align: right;\n",
       "    }\n",
       "</style>\n",
       "<table border=\"1\" class=\"dataframe\">\n",
       "  <thead>\n",
       "    <tr style=\"text-align: right;\">\n",
       "      <th></th>\n",
       "      <th>Room Type</th>\n",
       "      <th>Avg. Booking Price</th>\n",
       "    </tr>\n",
       "  </thead>\n",
       "  <tbody>\n",
       "    <tr>\n",
       "      <th>0</th>\n",
       "      <td>Basic Room</td>\n",
       "      <td>1181.220297</td>\n",
       "    </tr>\n",
       "    <tr>\n",
       "      <th>1</th>\n",
       "      <td>Deluxe Room</td>\n",
       "      <td>4552.061151</td>\n",
       "    </tr>\n",
       "    <tr>\n",
       "      <th>2</th>\n",
       "      <td>Standard Room</td>\n",
       "      <td>2280.097130</td>\n",
       "    </tr>\n",
       "  </tbody>\n",
       "</table>\n",
       "</div>"
      ],
      "text/plain": [
       "       Room Type  Avg. Booking Price\n",
       "0     Basic Room         1181.220297\n",
       "1    Deluxe Room         4552.061151\n",
       "2  Standard Room         2280.097130"
      ]
     },
     "execution_count": 31,
     "metadata": {},
     "output_type": "execute_result"
    }
   ],
   "source": [
    "average_prices=hotel.groupby('Room Type')['Total_Price'].mean().reset_index().rename(columns={'Total_Price':'Avg. Booking Price'})\n",
    "average_prices"
   ]
  },
  {
   "cell_type": "code",
   "execution_count": 32,
   "id": "0732fcd3",
   "metadata": {},
   "outputs": [
    {
     "data": {
      "image/png": "[encoded data removed]",
      "text/plain": [
       "<Figure size 468x432 with 1 Axes>"
      ]
     },
     "metadata": {},
     "output_type": "display_data"
    }
   ],
   "source": [
    "color=['orchid','mediumspringgreen','gold']\n",
    "average_prices.plot.bar(x='Room Type',y='Avg. Booking Price',fontsize=13,color=color,figsize=(6.5,6))\n",
    "plt.xlabel('Room Type',fontsize=16,color='indigo')\n",
    "plt.ylabel('Avg. Booking Price',fontsize=16,color='indigo')\n",
    "plt.title('Average Price Chart',fontsize=16,color='indigo')\n",
    "\n",
    "plt.xticks(rotation=45)\n",
    "plt.legend().remove()\n",
    "plt.show()\n"
   ]
  },
  {
   "cell_type": "markdown",
   "id": "1210993b",
   "metadata": {},
   "source": [
    "As compare to basic room type deluxe room type is 4 times more expensive and twice as compare to standard rooms."
   ]
  },
  {
   "cell_type": "markdown",
   "id": "bfb64402",
   "metadata": {},
   "source": [
    "#  Top 5 expensive and cheapest hotel by there types"
   ]
  },
  {
   "cell_type": "code",
   "execution_count": 33,
   "id": "b8de9657",
   "metadata": {},
   "outputs": [
    {
     "data": {
      "text/html": [
       "<div>\n",
       "<style scoped>\n",
       "    .dataframe tbody tr th:only-of-type {\n",
       "        vertical-align: middle;\n",
       "    }\n",
       "\n",
       "    .dataframe tbody tr th {\n",
       "        vertical-align: top;\n",
       "    }\n",
       "\n",
       "    .dataframe thead th {\n",
       "        text-align: right;\n",
       "    }\n",
       "</style>\n",
       "<table border=\"1\" class=\"dataframe\">\n",
       "  <thead>\n",
       "    <tr style=\"text-align: right;\">\n",
       "      <th></th>\n",
       "      <th>Hotel Name</th>\n",
       "      <th>Room Type</th>\n",
       "      <th>Total_Price</th>\n",
       "    </tr>\n",
       "  </thead>\n",
       "  <tbody>\n",
       "    <tr>\n",
       "      <th>910</th>\n",
       "      <td>New Shankar International</td>\n",
       "      <td>Basic Room</td>\n",
       "      <td>1713</td>\n",
       "    </tr>\n",
       "    <tr>\n",
       "      <th>75</th>\n",
       "      <td>UD Residency</td>\n",
       "      <td>Basic Room</td>\n",
       "      <td>1706</td>\n",
       "    </tr>\n",
       "    <tr>\n",
       "      <th>231</th>\n",
       "      <td>Hotel Yuvraj Deluxe</td>\n",
       "      <td>Basic Room</td>\n",
       "      <td>1688</td>\n",
       "    </tr>\n",
       "    <tr>\n",
       "      <th>236</th>\n",
       "      <td>Hotel Red Chilly</td>\n",
       "      <td>Basic Room</td>\n",
       "      <td>1673</td>\n",
       "    </tr>\n",
       "    <tr>\n",
       "      <th>631</th>\n",
       "      <td>Sun Park Resort</td>\n",
       "      <td>Basic Room</td>\n",
       "      <td>1672</td>\n",
       "    </tr>\n",
       "  </tbody>\n",
       "</table>\n",
       "</div>"
      ],
      "text/plain": [
       "                    Hotel Name   Room Type  Total_Price\n",
       "910  New Shankar International  Basic Room         1713\n",
       "75                UD Residency  Basic Room         1706\n",
       "231        Hotel Yuvraj Deluxe  Basic Room         1688\n",
       "236           Hotel Red Chilly  Basic Room         1673\n",
       "631            Sun Park Resort  Basic Room         1672"
      ]
     },
     "execution_count": 33,
     "metadata": {},
     "output_type": "execute_result"
    }
   ],
   "source": [
    "top5=hotel[hotel['Room Type']=='Basic Room']\n",
    "top=top5[['Hotel Name','Room Type','Total_Price']]\n",
    "top.sort_values('Total_Price',ascending=False).head()"
   ]
  },
  {
   "cell_type": "code",
   "execution_count": 34,
   "id": "3f57f03a",
   "metadata": {},
   "outputs": [
    {
     "data": {
      "text/html": [
       "<div>\n",
       "<style scoped>\n",
       "    .dataframe tbody tr th:only-of-type {\n",
       "        vertical-align: middle;\n",
       "    }\n",
       "\n",
       "    .dataframe tbody tr th {\n",
       "        vertical-align: top;\n",
       "    }\n",
       "\n",
       "    .dataframe thead th {\n",
       "        text-align: right;\n",
       "    }\n",
       "</style>\n",
       "<table border=\"1\" class=\"dataframe\">\n",
       "  <thead>\n",
       "    <tr style=\"text-align: right;\">\n",
       "      <th></th>\n",
       "      <th>Hotel Name</th>\n",
       "      <th>Room Type</th>\n",
       "      <th>Total_Price</th>\n",
       "    </tr>\n",
       "  </thead>\n",
       "  <tbody>\n",
       "    <tr>\n",
       "      <th>722</th>\n",
       "      <td>Hotel Channi Raja</td>\n",
       "      <td>Standard Room</td>\n",
       "      <td>3204</td>\n",
       "    </tr>\n",
       "    <tr>\n",
       "      <th>1097</th>\n",
       "      <td>Mango Hotels Vijayawada</td>\n",
       "      <td>Standard Room</td>\n",
       "      <td>3186</td>\n",
       "    </tr>\n",
       "    <tr>\n",
       "      <th>1091</th>\n",
       "      <td>Red Fox Hotel, Vijayawada</td>\n",
       "      <td>Standard Room</td>\n",
       "      <td>3161</td>\n",
       "    </tr>\n",
       "    <tr>\n",
       "      <th>409</th>\n",
       "      <td>Hotel Golden Manor</td>\n",
       "      <td>Standard Room</td>\n",
       "      <td>3153</td>\n",
       "    </tr>\n",
       "    <tr>\n",
       "      <th>1098</th>\n",
       "      <td>The Metropolitan</td>\n",
       "      <td>Standard Room</td>\n",
       "      <td>3151</td>\n",
       "    </tr>\n",
       "  </tbody>\n",
       "</table>\n",
       "</div>"
      ],
      "text/plain": [
       "                     Hotel Name      Room Type  Total_Price\n",
       "722           Hotel Channi Raja  Standard Room         3204\n",
       "1097    Mango Hotels Vijayawada  Standard Room         3186\n",
       "1091  Red Fox Hotel, Vijayawada  Standard Room         3161\n",
       "409          Hotel Golden Manor  Standard Room         3153\n",
       "1098           The Metropolitan  Standard Room         3151"
      ]
     },
     "execution_count": 34,
     "metadata": {},
     "output_type": "execute_result"
    }
   ],
   "source": [
    "top5=hotel[hotel['Room Type']=='Standard Room']\n",
    "top=top5[['Hotel Name','Room Type','Total_Price']]\n",
    "top.sort_values('Total_Price',ascending=False).head()"
   ]
  },
  {
   "cell_type": "code",
   "execution_count": 35,
   "id": "5d7b64c0",
   "metadata": {},
   "outputs": [
    {
     "data": {
      "text/html": [
       "<div>\n",
       "<style scoped>\n",
       "    .dataframe tbody tr th:only-of-type {\n",
       "        vertical-align: middle;\n",
       "    }\n",
       "\n",
       "    .dataframe tbody tr th {\n",
       "        vertical-align: top;\n",
       "    }\n",
       "\n",
       "    .dataframe thead th {\n",
       "        text-align: right;\n",
       "    }\n",
       "</style>\n",
       "<table border=\"1\" class=\"dataframe\">\n",
       "  <thead>\n",
       "    <tr style=\"text-align: right;\">\n",
       "      <th></th>\n",
       "      <th>Hotel Name</th>\n",
       "      <th>Room Type</th>\n",
       "      <th>Total_Price</th>\n",
       "    </tr>\n",
       "  </thead>\n",
       "  <tbody>\n",
       "    <tr>\n",
       "      <th>475</th>\n",
       "      <td>Rhythm Lonavala</td>\n",
       "      <td>Deluxe Room</td>\n",
       "      <td>12398</td>\n",
       "    </tr>\n",
       "    <tr>\n",
       "      <th>182</th>\n",
       "      <td>The Fern Seaside Luxurious Tent Resort Daman</td>\n",
       "      <td>Deluxe Room</td>\n",
       "      <td>12216</td>\n",
       "    </tr>\n",
       "    <tr>\n",
       "      <th>721</th>\n",
       "      <td>The Naini Retreat By Leisure Hotels</td>\n",
       "      <td>Deluxe Room</td>\n",
       "      <td>12007</td>\n",
       "    </tr>\n",
       "    <tr>\n",
       "      <th>1027</th>\n",
       "      <td>The Ananta</td>\n",
       "      <td>Deluxe Room</td>\n",
       "      <td>11282</td>\n",
       "    </tr>\n",
       "    <tr>\n",
       "      <th>637</th>\n",
       "      <td>Hotel Hilltone</td>\n",
       "      <td>Deluxe Room</td>\n",
       "      <td>9539</td>\n",
       "    </tr>\n",
       "  </tbody>\n",
       "</table>\n",
       "</div>"
      ],
      "text/plain": [
       "                                        Hotel Name    Room Type  Total_Price\n",
       "475                                Rhythm Lonavala  Deluxe Room        12398\n",
       "182   The Fern Seaside Luxurious Tent Resort Daman  Deluxe Room        12216\n",
       "721            The Naini Retreat By Leisure Hotels  Deluxe Room        12007\n",
       "1027                                    The Ananta  Deluxe Room        11282\n",
       "637                                 Hotel Hilltone  Deluxe Room         9539"
      ]
     },
     "execution_count": 35,
     "metadata": {},
     "output_type": "execute_result"
    }
   ],
   "source": [
    "top5=hotel[hotel['Room Type']=='Deluxe Room']\n",
    "top=top5[['Hotel Name','Room Type','Total_Price']]\n",
    "top.sort_values('Total_Price',ascending=False).head()"
   ]
  },
  {
   "cell_type": "code",
   "execution_count": 36,
   "id": "da84a4b9",
   "metadata": {},
   "outputs": [
    {
     "data": {
      "text/html": [
       "<div>\n",
       "<style scoped>\n",
       "    .dataframe tbody tr th:only-of-type {\n",
       "        vertical-align: middle;\n",
       "    }\n",
       "\n",
       "    .dataframe tbody tr th {\n",
       "        vertical-align: top;\n",
       "    }\n",
       "\n",
       "    .dataframe thead th {\n",
       "        text-align: right;\n",
       "    }\n",
       "</style>\n",
       "<table border=\"1\" class=\"dataframe\">\n",
       "  <thead>\n",
       "    <tr style=\"text-align: right;\">\n",
       "      <th></th>\n",
       "      <th>Hotel Name</th>\n",
       "      <th>Room Type</th>\n",
       "      <th>Total_Price</th>\n",
       "    </tr>\n",
       "  </thead>\n",
       "  <tbody>\n",
       "    <tr>\n",
       "      <th>8</th>\n",
       "      <td>Super inn Guest house</td>\n",
       "      <td>Basic Room</td>\n",
       "      <td>398</td>\n",
       "    </tr>\n",
       "    <tr>\n",
       "      <th>417</th>\n",
       "      <td>Hotel Dharohar Palace</td>\n",
       "      <td>Basic Room</td>\n",
       "      <td>416</td>\n",
       "    </tr>\n",
       "    <tr>\n",
       "      <th>17</th>\n",
       "      <td>Hotel Marwari</td>\n",
       "      <td>Basic Room</td>\n",
       "      <td>461</td>\n",
       "    </tr>\n",
       "    <tr>\n",
       "      <th>849</th>\n",
       "      <td>Hotel Vineet</td>\n",
       "      <td>Basic Room</td>\n",
       "      <td>465</td>\n",
       "    </tr>\n",
       "    <tr>\n",
       "      <th>755</th>\n",
       "      <td>Shree Balaji Guest House</td>\n",
       "      <td>Basic Room</td>\n",
       "      <td>466</td>\n",
       "    </tr>\n",
       "  </tbody>\n",
       "</table>\n",
       "</div>"
      ],
      "text/plain": [
       "                   Hotel Name   Room Type  Total_Price\n",
       "8       Super inn Guest house  Basic Room          398\n",
       "417     Hotel Dharohar Palace  Basic Room          416\n",
       "17              Hotel Marwari  Basic Room          461\n",
       "849              Hotel Vineet  Basic Room          465\n",
       "755  Shree Balaji Guest House  Basic Room          466"
      ]
     },
     "execution_count": 36,
     "metadata": {},
     "output_type": "execute_result"
    }
   ],
   "source": [
    "low=hotel[hotel['Room Type']=='Basic Room']\n",
    "low5=low[['Hotel Name','Room Type','Total_Price']]\n",
    "low5.sort_values('Total_Price',ascending=True).head()"
   ]
  },
  {
   "cell_type": "code",
   "execution_count": 37,
   "id": "57e32ecc",
   "metadata": {},
   "outputs": [
    {
     "data": {
      "text/html": [
       "<div>\n",
       "<style scoped>\n",
       "    .dataframe tbody tr th:only-of-type {\n",
       "        vertical-align: middle;\n",
       "    }\n",
       "\n",
       "    .dataframe tbody tr th {\n",
       "        vertical-align: top;\n",
       "    }\n",
       "\n",
       "    .dataframe thead th {\n",
       "        text-align: right;\n",
       "    }\n",
       "</style>\n",
       "<table border=\"1\" class=\"dataframe\">\n",
       "  <thead>\n",
       "    <tr style=\"text-align: right;\">\n",
       "      <th></th>\n",
       "      <th>Hotel Name</th>\n",
       "      <th>Room Type</th>\n",
       "      <th>Total_Price</th>\n",
       "    </tr>\n",
       "  </thead>\n",
       "  <tbody>\n",
       "    <tr>\n",
       "      <th>951</th>\n",
       "      <td>Seven Hills</td>\n",
       "      <td>Standard Room</td>\n",
       "      <td>1111</td>\n",
       "    </tr>\n",
       "    <tr>\n",
       "      <th>136</th>\n",
       "      <td>OYO Hotel 38033 Le Mint</td>\n",
       "      <td>Standard Room</td>\n",
       "      <td>1476</td>\n",
       "    </tr>\n",
       "    <tr>\n",
       "      <th>117</th>\n",
       "      <td>OYO 7724 HOTEL PR CHANDIGARH</td>\n",
       "      <td>Standard Room</td>\n",
       "      <td>1491</td>\n",
       "    </tr>\n",
       "    <tr>\n",
       "      <th>147</th>\n",
       "      <td>OYO Townhouse 237 Near Pallavaram - Thoraipakk...</td>\n",
       "      <td>Standard Room</td>\n",
       "      <td>1529</td>\n",
       "    </tr>\n",
       "    <tr>\n",
       "      <th>857</th>\n",
       "      <td>OYO 76647 Hotel Raka Inn</td>\n",
       "      <td>Standard Room</td>\n",
       "      <td>1533</td>\n",
       "    </tr>\n",
       "  </tbody>\n",
       "</table>\n",
       "</div>"
      ],
      "text/plain": [
       "                                            Hotel Name      Room Type  \\\n",
       "951                                        Seven Hills  Standard Room   \n",
       "136                            OYO Hotel 38033 Le Mint  Standard Room   \n",
       "117                       OYO 7724 HOTEL PR CHANDIGARH  Standard Room   \n",
       "147  OYO Townhouse 237 Near Pallavaram - Thoraipakk...  Standard Room   \n",
       "857                           OYO 76647 Hotel Raka Inn  Standard Room   \n",
       "\n",
       "     Total_Price  \n",
       "951         1111  \n",
       "136         1476  \n",
       "117         1491  \n",
       "147         1529  \n",
       "857         1533  "
      ]
     },
     "execution_count": 37,
     "metadata": {},
     "output_type": "execute_result"
    }
   ],
   "source": [
    "low1=hotel[hotel['Room Type']=='Standard Room']\n",
    "low2=low1[['Hotel Name','Room Type','Total_Price']]\n",
    "low2.sort_values('Total_Price',ascending=True).head()"
   ]
  },
  {
   "cell_type": "code",
   "execution_count": 38,
   "id": "a9a9fadc",
   "metadata": {},
   "outputs": [
    {
     "data": {
      "text/html": [
       "<div>\n",
       "<style scoped>\n",
       "    .dataframe tbody tr th:only-of-type {\n",
       "        vertical-align: middle;\n",
       "    }\n",
       "\n",
       "    .dataframe tbody tr th {\n",
       "        vertical-align: top;\n",
       "    }\n",
       "\n",
       "    .dataframe thead th {\n",
       "        text-align: right;\n",
       "    }\n",
       "</style>\n",
       "<table border=\"1\" class=\"dataframe\">\n",
       "  <thead>\n",
       "    <tr style=\"text-align: right;\">\n",
       "      <th></th>\n",
       "      <th>Hotel Name</th>\n",
       "      <th>Room Type</th>\n",
       "      <th>Total_Price</th>\n",
       "    </tr>\n",
       "  </thead>\n",
       "  <tbody>\n",
       "    <tr>\n",
       "      <th>1</th>\n",
       "      <td>Courtyard by Marriott Agra</td>\n",
       "      <td>Deluxe Room</td>\n",
       "      <td>1295</td>\n",
       "    </tr>\n",
       "    <tr>\n",
       "      <th>314</th>\n",
       "      <td>Gokarna International Kudle Beach</td>\n",
       "      <td>Deluxe Room</td>\n",
       "      <td>1761</td>\n",
       "    </tr>\n",
       "    <tr>\n",
       "      <th>337</th>\n",
       "      <td>Gokarna International Kudle Beach</td>\n",
       "      <td>Deluxe Room</td>\n",
       "      <td>1761</td>\n",
       "    </tr>\n",
       "    <tr>\n",
       "      <th>295</th>\n",
       "      <td>Namaste Sanjeevini | Rooms in a Homestay</td>\n",
       "      <td>Deluxe Room</td>\n",
       "      <td>1855</td>\n",
       "    </tr>\n",
       "    <tr>\n",
       "      <th>326</th>\n",
       "      <td>Namaste Sanjeevini | Rooms in a Homestay</td>\n",
       "      <td>Deluxe Room</td>\n",
       "      <td>1855</td>\n",
       "    </tr>\n",
       "  </tbody>\n",
       "</table>\n",
       "</div>"
      ],
      "text/plain": [
       "                                   Hotel Name    Room Type  Total_Price\n",
       "1                  Courtyard by Marriott Agra  Deluxe Room         1295\n",
       "314         Gokarna International Kudle Beach  Deluxe Room         1761\n",
       "337         Gokarna International Kudle Beach  Deluxe Room         1761\n",
       "295  Namaste Sanjeevini | Rooms in a Homestay  Deluxe Room         1855\n",
       "326  Namaste Sanjeevini | Rooms in a Homestay  Deluxe Room         1855"
      ]
     },
     "execution_count": 38,
     "metadata": {},
     "output_type": "execute_result"
    }
   ],
   "source": [
    "low2=hotel[hotel['Room Type']=='Deluxe Room']\n",
    "low3=low2[['Hotel Name','Room Type','Total_Price']]\n",
    "low3.sort_values('Total_Price',ascending=True).head()"
   ]
  },
  {
   "cell_type": "markdown",
   "id": "bc84fbea",
   "metadata": {},
   "source": [
    "#  Total hotel with zero cancellation fee"
   ]
  },
  {
   "cell_type": "code",
   "execution_count": 80,
   "id": "0420ce22",
   "metadata": {},
   "outputs": [
    {
     "data": {
      "text/plain": [
       "1048"
      ]
     },
     "execution_count": 80,
     "metadata": {},
     "output_type": "execute_result"
    }
   ],
   "source": [
    "zero_fee=hotel[hotel['Cancellation_Fee']==0]\n",
    "zero_fee['Hotel Name'].count()"
   ]
  },
  {
   "cell_type": "markdown",
   "id": "af6a008e",
   "metadata": {},
   "source": [
    "From all listed hotel there are 1048 hotel who did not charge any amount while cancelling the booking."
   ]
  },
  {
   "cell_type": "markdown",
   "id": "8f81cdab",
   "metadata": {},
   "source": [
    "#  Top 5 Maximum Cancellation fees charges by hotels"
   ]
  },
  {
   "cell_type": "code",
   "execution_count": 40,
   "id": "55ae9ca5",
   "metadata": {},
   "outputs": [
    {
     "data": {
      "text/html": [
       "<div>\n",
       "<style scoped>\n",
       "    .dataframe tbody tr th:only-of-type {\n",
       "        vertical-align: middle;\n",
       "    }\n",
       "\n",
       "    .dataframe tbody tr th {\n",
       "        vertical-align: top;\n",
       "    }\n",
       "\n",
       "    .dataframe thead th {\n",
       "        text-align: right;\n",
       "    }\n",
       "</style>\n",
       "<table border=\"1\" class=\"dataframe\">\n",
       "  <thead>\n",
       "    <tr style=\"text-align: right;\">\n",
       "      <th></th>\n",
       "      <th>Hotel Name</th>\n",
       "      <th>Location</th>\n",
       "      <th>Room Type</th>\n",
       "      <th>Rating</th>\n",
       "      <th>Total_verified_Ratings</th>\n",
       "      <th>Cancellation_Fee</th>\n",
       "      <th>Price</th>\n",
       "      <th>Offer_Price</th>\n",
       "      <th>Taxes and Fees</th>\n",
       "      <th>City</th>\n",
       "      <th>Discount</th>\n",
       "      <th>Total_Price</th>\n",
       "    </tr>\n",
       "  </thead>\n",
       "  <tbody>\n",
       "    <tr>\n",
       "      <th>690</th>\n",
       "      <td>HOTEL MUSSOORIE HEIGHTS</td>\n",
       "      <td>Kulri Chowk</td>\n",
       "      <td>Basic Room</td>\n",
       "      <td>4.4</td>\n",
       "      <td>335</td>\n",
       "      <td>1020</td>\n",
       "      <td>1250</td>\n",
       "      <td>1020</td>\n",
       "      <td>234</td>\n",
       "      <td>Mussoorie</td>\n",
       "      <td>230</td>\n",
       "      <td>1254</td>\n",
       "    </tr>\n",
       "    <tr>\n",
       "      <th>1094</th>\n",
       "      <td>Hotel Krishna Residency</td>\n",
       "      <td>Governorpet</td>\n",
       "      <td>Basic Room</td>\n",
       "      <td>3.8</td>\n",
       "      <td>310</td>\n",
       "      <td>1019</td>\n",
       "      <td>1920</td>\n",
       "      <td>1019</td>\n",
       "      <td>287</td>\n",
       "      <td>Vijayawada</td>\n",
       "      <td>901</td>\n",
       "      <td>1306</td>\n",
       "    </tr>\n",
       "    <tr>\n",
       "      <th>609</th>\n",
       "      <td>Kalista Resort - Your home in Mountains</td>\n",
       "      <td>Near Nehru Kund</td>\n",
       "      <td>Basic Room</td>\n",
       "      <td>4.7</td>\n",
       "      <td>637</td>\n",
       "      <td>876</td>\n",
       "      <td>2700</td>\n",
       "      <td>876</td>\n",
       "      <td>249</td>\n",
       "      <td>Manali</td>\n",
       "      <td>1824</td>\n",
       "      <td>1125</td>\n",
       "    </tr>\n",
       "    <tr>\n",
       "      <th>679</th>\n",
       "      <td>BKC Corporate Hostel</td>\n",
       "      <td>Bandra East</td>\n",
       "      <td>Basic Room</td>\n",
       "      <td>3.7</td>\n",
       "      <td>79</td>\n",
       "      <td>875</td>\n",
       "      <td>1300</td>\n",
       "      <td>875</td>\n",
       "      <td>218</td>\n",
       "      <td>Mumbai</td>\n",
       "      <td>425</td>\n",
       "      <td>1093</td>\n",
       "    </tr>\n",
       "    <tr>\n",
       "      <th>209</th>\n",
       "      <td>WHITE TARA HOMESTAY</td>\n",
       "      <td>Near Chauk Bazaar</td>\n",
       "      <td>Basic Room</td>\n",
       "      <td>4.1</td>\n",
       "      <td>161</td>\n",
       "      <td>871</td>\n",
       "      <td>1100</td>\n",
       "      <td>871</td>\n",
       "      <td>205</td>\n",
       "      <td>Darjelling</td>\n",
       "      <td>229</td>\n",
       "      <td>1076</td>\n",
       "    </tr>\n",
       "  </tbody>\n",
       "</table>\n",
       "</div>"
      ],
      "text/plain": [
       "                                   Hotel Name           Location   Room Type  \\\n",
       "690                   HOTEL MUSSOORIE HEIGHTS        Kulri Chowk  Basic Room   \n",
       "1094                  Hotel Krishna Residency        Governorpet  Basic Room   \n",
       "609   Kalista Resort - Your home in Mountains    Near Nehru Kund  Basic Room   \n",
       "679                      BKC Corporate Hostel        Bandra East  Basic Room   \n",
       "209                       WHITE TARA HOMESTAY  Near Chauk Bazaar  Basic Room   \n",
       "\n",
       "      Rating  Total_verified_Ratings  Cancellation_Fee  Price  Offer_Price  \\\n",
       "690      4.4                     335              1020   1250         1020   \n",
       "1094     3.8                     310              1019   1920         1019   \n",
       "609      4.7                     637               876   2700          876   \n",
       "679      3.7                      79               875   1300          875   \n",
       "209      4.1                     161               871   1100          871   \n",
       "\n",
       "      Taxes and Fees        City  Discount  Total_Price  \n",
       "690              234   Mussoorie       230         1254  \n",
       "1094             287  Vijayawada       901         1306  \n",
       "609              249      Manali      1824         1125  \n",
       "679              218      Mumbai       425         1093  \n",
       "209              205  Darjelling       229         1076  "
      ]
     },
     "execution_count": 40,
     "metadata": {},
     "output_type": "execute_result"
    }
   ],
   "source": [
    "Cancellation=hotel.sort_values('Cancellation_Fee',ascending=False).head()\n",
    "Cancellation"
   ]
  },
  {
   "cell_type": "markdown",
   "id": "d8ebd184",
   "metadata": {},
   "source": [
    "Hotel 'HOTEL MUSSOORIE HEIGHTS' and 'Hotel Krishna Residency' charges the maximum cancellation fee."
   ]
  },
  {
   "cell_type": "markdown",
   "id": "d0ec35f7",
   "metadata": {},
   "source": [
    "#  Maximum tax taken by which hotels"
   ]
  },
  {
   "cell_type": "code",
   "execution_count": 41,
   "id": "adfcef16",
   "metadata": {},
   "outputs": [
    {
     "data": {
      "text/html": [
       "<div>\n",
       "<style scoped>\n",
       "    .dataframe tbody tr th:only-of-type {\n",
       "        vertical-align: middle;\n",
       "    }\n",
       "\n",
       "    .dataframe tbody tr th {\n",
       "        vertical-align: top;\n",
       "    }\n",
       "\n",
       "    .dataframe thead th {\n",
       "        text-align: right;\n",
       "    }\n",
       "</style>\n",
       "<table border=\"1\" class=\"dataframe\">\n",
       "  <thead>\n",
       "    <tr style=\"text-align: right;\">\n",
       "      <th></th>\n",
       "      <th>City</th>\n",
       "      <th>Hotel Name</th>\n",
       "      <th>Taxes and Fees</th>\n",
       "    </tr>\n",
       "  </thead>\n",
       "  <tbody>\n",
       "    <tr>\n",
       "      <th>721</th>\n",
       "      <td>Nainital</td>\n",
       "      <td>The Naini Retreat By Leisure Hotels</td>\n",
       "      <td>2618</td>\n",
       "    </tr>\n",
       "    <tr>\n",
       "      <th>475</th>\n",
       "      <td>Lonavala</td>\n",
       "      <td>Rhythm Lonavala</td>\n",
       "      <td>2618</td>\n",
       "    </tr>\n",
       "    <tr>\n",
       "      <th>182</th>\n",
       "      <td>Daman</td>\n",
       "      <td>The Fern Seaside Luxurious Tent Resort Daman</td>\n",
       "      <td>2558</td>\n",
       "    </tr>\n",
       "    <tr>\n",
       "      <th>193</th>\n",
       "      <td>Daman</td>\n",
       "      <td>Hotel Summer House</td>\n",
       "      <td>2339</td>\n",
       "    </tr>\n",
       "    <tr>\n",
       "      <th>637</th>\n",
       "      <td>Mount-abu</td>\n",
       "      <td>Hotel Hilltone</td>\n",
       "      <td>2119</td>\n",
       "    </tr>\n",
       "  </tbody>\n",
       "</table>\n",
       "</div>"
      ],
      "text/plain": [
       "          City                                    Hotel Name  Taxes and Fees\n",
       "721   Nainital           The Naini Retreat By Leisure Hotels            2618\n",
       "475   Lonavala                               Rhythm Lonavala            2618\n",
       "182      Daman  The Fern Seaside Luxurious Tent Resort Daman            2558\n",
       "193      Daman                            Hotel Summer House            2339\n",
       "637  Mount-abu                                Hotel Hilltone            2119"
      ]
     },
     "execution_count": 41,
     "metadata": {},
     "output_type": "execute_result"
    }
   ],
   "source": [
    "max_tax=hotel[['City','Hotel Name','Taxes and Fees']].sort_values('Taxes and Fees',ascending=False).head()\n",
    "max_tax"
   ]
  },
  {
   "cell_type": "code",
   "execution_count": 42,
   "id": "d0e7dfa5",
   "metadata": {},
   "outputs": [
    {
     "data": {
      "image/png": "[encoded data removed]",
      "text/plain": [
       "<Figure size 648x360 with 1 Axes>"
      ]
     },
     "metadata": {},
     "output_type": "display_data"
    }
   ],
   "source": [
    "plt.figure(figsize=(9,5))\n",
    "sns.barplot(x = 'Taxes and Fees',y='Hotel Name',hue = 'City', data = max_tax, palette='pastel',orient = 'h')\n",
    "sns.set(font_scale = 0.9)\n",
    "plt.xlabel('Products',fontsize=15,color='teal')\n",
    "plt.ylabel('Quantity',fontsize=15,color='teal')\n",
    "plt.legend(loc='lower right')\n",
    "plt.show()"
   ]
  },
  {
   "cell_type": "markdown",
   "id": "a1ca7cc6",
   "metadata": {},
   "source": [
    "These are the list of 5 hotels who takes the maximum Taxes and Fees from the customer."
   ]
  },
  {
   "cell_type": "code",
   "execution_count": 43,
   "id": "32ea05a8",
   "metadata": {},
   "outputs": [
    {
     "data": {
      "text/html": [
       "<div>\n",
       "<style scoped>\n",
       "    .dataframe tbody tr th:only-of-type {\n",
       "        vertical-align: middle;\n",
       "    }\n",
       "\n",
       "    .dataframe tbody tr th {\n",
       "        vertical-align: top;\n",
       "    }\n",
       "\n",
       "    .dataframe thead th {\n",
       "        text-align: right;\n",
       "    }\n",
       "</style>\n",
       "<table border=\"1\" class=\"dataframe\">\n",
       "  <thead>\n",
       "    <tr style=\"text-align: right;\">\n",
       "      <th></th>\n",
       "      <th>City</th>\n",
       "      <th>Hotel Name</th>\n",
       "      <th>Taxes and Fees</th>\n",
       "    </tr>\n",
       "  </thead>\n",
       "  <tbody>\n",
       "    <tr>\n",
       "      <th>177</th>\n",
       "      <td>Coimbatore</td>\n",
       "      <td>Flagship 30395 Tulip Towers Saravanampatti</td>\n",
       "      <td>27</td>\n",
       "    </tr>\n",
       "    <tr>\n",
       "      <th>468</th>\n",
       "      <td>Kolkata</td>\n",
       "      <td>OYO Flagship 75427 Hotel Sunshine</td>\n",
       "      <td>30</td>\n",
       "    </tr>\n",
       "    <tr>\n",
       "      <th>349</th>\n",
       "      <td>Gurgaon</td>\n",
       "      <td>OYO 27864 Hotel Samrat</td>\n",
       "      <td>32</td>\n",
       "    </tr>\n",
       "    <tr>\n",
       "      <th>733</th>\n",
       "      <td>Nainital</td>\n",
       "      <td>OYO 90062 Hotel Global Residency</td>\n",
       "      <td>32</td>\n",
       "    </tr>\n",
       "    <tr>\n",
       "      <th>1012</th>\n",
       "      <td>Tirupati</td>\n",
       "      <td>OYO Flagship 42654 Jayalakshmi Service Apartment</td>\n",
       "      <td>33</td>\n",
       "    </tr>\n",
       "  </tbody>\n",
       "</table>\n",
       "</div>"
      ],
      "text/plain": [
       "            City                                        Hotel Name  \\\n",
       "177   Coimbatore        Flagship 30395 Tulip Towers Saravanampatti   \n",
       "468      Kolkata                 OYO Flagship 75427 Hotel Sunshine   \n",
       "349      Gurgaon                            OYO 27864 Hotel Samrat   \n",
       "733     Nainital                  OYO 90062 Hotel Global Residency   \n",
       "1012    Tirupati  OYO Flagship 42654 Jayalakshmi Service Apartment   \n",
       "\n",
       "      Taxes and Fees  \n",
       "177               27  \n",
       "468               30  \n",
       "349               32  \n",
       "733               32  \n",
       "1012              33  "
      ]
     },
     "execution_count": 43,
     "metadata": {},
     "output_type": "execute_result"
    }
   ],
   "source": [
    "max_tax=hotel[['City','Hotel Name','Taxes and Fees']].sort_values('Taxes and Fees',ascending=True)\n",
    "max_tax.head()"
   ]
  },
  {
   "cell_type": "markdown",
   "id": "bf3b4a0f",
   "metadata": {},
   "source": [
    "These are the list of 5 hotels who takes the minimum Taxes and Fees from the customer."
   ]
  },
  {
   "cell_type": "markdown",
   "id": "2aee8ade",
   "metadata": {},
   "source": [
    "#  best city with maximum average ratings."
   ]
  },
  {
   "cell_type": "code",
   "execution_count": 44,
   "id": "5d984205",
   "metadata": {},
   "outputs": [
    {
     "data": {
      "text/html": [
       "<div>\n",
       "<style scoped>\n",
       "    .dataframe tbody tr th:only-of-type {\n",
       "        vertical-align: middle;\n",
       "    }\n",
       "\n",
       "    .dataframe tbody tr th {\n",
       "        vertical-align: top;\n",
       "    }\n",
       "\n",
       "    .dataframe thead th {\n",
       "        text-align: right;\n",
       "    }\n",
       "</style>\n",
       "<table border=\"1\" class=\"dataframe\">\n",
       "  <thead>\n",
       "    <tr style=\"text-align: right;\">\n",
       "      <th></th>\n",
       "      <th>City</th>\n",
       "      <th>Rating</th>\n",
       "    </tr>\n",
       "  </thead>\n",
       "  <tbody>\n",
       "    <tr>\n",
       "      <th>0</th>\n",
       "      <td>Manali</td>\n",
       "      <td>4.342857</td>\n",
       "    </tr>\n",
       "    <tr>\n",
       "      <th>1</th>\n",
       "      <td>Udaipur</td>\n",
       "      <td>4.156000</td>\n",
       "    </tr>\n",
       "    <tr>\n",
       "      <th>2</th>\n",
       "      <td>Jaipur</td>\n",
       "      <td>4.110345</td>\n",
       "    </tr>\n",
       "    <tr>\n",
       "      <th>3</th>\n",
       "      <td>Kochi</td>\n",
       "      <td>4.103333</td>\n",
       "    </tr>\n",
       "    <tr>\n",
       "      <th>4</th>\n",
       "      <td>Pondicherry</td>\n",
       "      <td>4.095238</td>\n",
       "    </tr>\n",
       "  </tbody>\n",
       "</table>\n",
       "</div>"
      ],
      "text/plain": [
       "          City    Rating\n",
       "0       Manali  4.342857\n",
       "1      Udaipur  4.156000\n",
       "2       Jaipur  4.110345\n",
       "3        Kochi  4.103333\n",
       "4  Pondicherry  4.095238"
      ]
     },
     "execution_count": 44,
     "metadata": {},
     "output_type": "execute_result"
    }
   ],
   "source": [
    "hotel.groupby('City')['Rating'].mean().sort_values(ascending=False).head().reset_index()"
   ]
  },
  {
   "cell_type": "markdown",
   "id": "6535661f",
   "metadata": {},
   "source": [
    "Manali City is the best rated city for hotels booking. "
   ]
  },
  {
   "cell_type": "markdown",
   "id": "6b9ddfba",
   "metadata": {},
   "source": [
    "#  top 5 cityes where you have to pay max/min price for per day stay."
   ]
  },
  {
   "cell_type": "code",
   "execution_count": 45,
   "id": "8805b39c",
   "metadata": {},
   "outputs": [
    {
     "data": {
      "text/html": [
       "<div>\n",
       "<style scoped>\n",
       "    .dataframe tbody tr th:only-of-type {\n",
       "        vertical-align: middle;\n",
       "    }\n",
       "\n",
       "    .dataframe tbody tr th {\n",
       "        vertical-align: top;\n",
       "    }\n",
       "\n",
       "    .dataframe thead th {\n",
       "        text-align: right;\n",
       "    }\n",
       "</style>\n",
       "<table border=\"1\" class=\"dataframe\">\n",
       "  <thead>\n",
       "    <tr style=\"text-align: right;\">\n",
       "      <th></th>\n",
       "      <th>City</th>\n",
       "      <th>Total_Price</th>\n",
       "    </tr>\n",
       "  </thead>\n",
       "  <tbody>\n",
       "    <tr>\n",
       "      <th>0</th>\n",
       "      <td>Daman</td>\n",
       "      <td>4431.125000</td>\n",
       "    </tr>\n",
       "    <tr>\n",
       "      <th>1</th>\n",
       "      <td>Lonavala</td>\n",
       "      <td>4006.259259</td>\n",
       "    </tr>\n",
       "    <tr>\n",
       "      <th>2</th>\n",
       "      <td>Mussoorie</td>\n",
       "      <td>3485.620690</td>\n",
       "    </tr>\n",
       "    <tr>\n",
       "      <th>3</th>\n",
       "      <td>Diu</td>\n",
       "      <td>3176.000000</td>\n",
       "    </tr>\n",
       "    <tr>\n",
       "      <th>4</th>\n",
       "      <td>Noida</td>\n",
       "      <td>3021.000000</td>\n",
       "    </tr>\n",
       "  </tbody>\n",
       "</table>\n",
       "</div>"
      ],
      "text/plain": [
       "        City  Total_Price\n",
       "0      Daman  4431.125000\n",
       "1   Lonavala  4006.259259\n",
       "2  Mussoorie  3485.620690\n",
       "3        Diu  3176.000000\n",
       "4      Noida  3021.000000"
      ]
     },
     "execution_count": 45,
     "metadata": {},
     "output_type": "execute_result"
    }
   ],
   "source": [
    "hotel.groupby('City')['Total_Price'].mean().sort_values(ascending=False).head().reset_index()"
   ]
  },
  {
   "cell_type": "code",
   "execution_count": 46,
   "id": "68939ce7",
   "metadata": {},
   "outputs": [
    {
     "data": {
      "text/html": [
       "<div>\n",
       "<style scoped>\n",
       "    .dataframe tbody tr th:only-of-type {\n",
       "        vertical-align: middle;\n",
       "    }\n",
       "\n",
       "    .dataframe tbody tr th {\n",
       "        vertical-align: top;\n",
       "    }\n",
       "\n",
       "    .dataframe thead th {\n",
       "        text-align: right;\n",
       "    }\n",
       "</style>\n",
       "<table border=\"1\" class=\"dataframe\">\n",
       "  <thead>\n",
       "    <tr style=\"text-align: right;\">\n",
       "      <th></th>\n",
       "      <th>City</th>\n",
       "      <th>Total_Price</th>\n",
       "    </tr>\n",
       "  </thead>\n",
       "  <tbody>\n",
       "    <tr>\n",
       "      <th>0</th>\n",
       "      <td>Manali</td>\n",
       "      <td>1462.464286</td>\n",
       "    </tr>\n",
       "    <tr>\n",
       "      <th>1</th>\n",
       "      <td>Puri</td>\n",
       "      <td>1729.266667</td>\n",
       "    </tr>\n",
       "    <tr>\n",
       "      <th>2</th>\n",
       "      <td>Delhi</td>\n",
       "      <td>1802.321429</td>\n",
       "    </tr>\n",
       "    <tr>\n",
       "      <th>3</th>\n",
       "      <td>Chennai</td>\n",
       "      <td>1812.448276</td>\n",
       "    </tr>\n",
       "    <tr>\n",
       "      <th>4</th>\n",
       "      <td>Agra</td>\n",
       "      <td>1830.592593</td>\n",
       "    </tr>\n",
       "  </tbody>\n",
       "</table>\n",
       "</div>"
      ],
      "text/plain": [
       "      City  Total_Price\n",
       "0   Manali  1462.464286\n",
       "1     Puri  1729.266667\n",
       "2    Delhi  1802.321429\n",
       "3  Chennai  1812.448276\n",
       "4     Agra  1830.592593"
      ]
     },
     "execution_count": 46,
     "metadata": {},
     "output_type": "execute_result"
    }
   ],
   "source": [
    "hotel.groupby('City')['Total_Price'].mean().sort_values(ascending=True).head().reset_index()"
   ]
  },
  {
   "cell_type": "markdown",
   "id": "014be055",
   "metadata": {},
   "source": [
    "Daman is the most expensive city for stay and manali is the least expensive."
   ]
  },
  {
   "cell_type": "markdown",
   "id": "8384a926",
   "metadata": {},
   "source": [
    "#  List of top 5 hotels with maximum discount offer."
   ]
  },
  {
   "cell_type": "code",
   "execution_count": 68,
   "id": "efe01c11",
   "metadata": {},
   "outputs": [
    {
     "data": {
      "text/html": [
       "<div>\n",
       "<style scoped>\n",
       "    .dataframe tbody tr th:only-of-type {\n",
       "        vertical-align: middle;\n",
       "    }\n",
       "\n",
       "    .dataframe tbody tr th {\n",
       "        vertical-align: top;\n",
       "    }\n",
       "\n",
       "    .dataframe thead th {\n",
       "        text-align: right;\n",
       "    }\n",
       "</style>\n",
       "<table border=\"1\" class=\"dataframe\">\n",
       "  <thead>\n",
       "    <tr style=\"text-align: right;\">\n",
       "      <th></th>\n",
       "      <th>Hotel Name</th>\n",
       "      <th>Location</th>\n",
       "      <th>Room Type</th>\n",
       "      <th>Rating</th>\n",
       "      <th>Total_verified_Ratings</th>\n",
       "      <th>Cancellation_Fee</th>\n",
       "      <th>Price</th>\n",
       "      <th>Offer_Price</th>\n",
       "      <th>Taxes and Fees</th>\n",
       "      <th>City</th>\n",
       "      <th>Discount</th>\n",
       "      <th>Total_Price</th>\n",
       "    </tr>\n",
       "  </thead>\n",
       "  <tbody>\n",
       "    <tr>\n",
       "      <th>375</th>\n",
       "      <td>Hotel V Hitech City</td>\n",
       "      <td>Hitech City</td>\n",
       "      <td>Standard Room</td>\n",
       "      <td>3.8</td>\n",
       "      <td>3826</td>\n",
       "      <td>0</td>\n",
       "      <td>15000</td>\n",
       "      <td>2188</td>\n",
       "      <td>471</td>\n",
       "      <td>Hyderabad</td>\n",
       "      <td>12812</td>\n",
       "      <td>2659</td>\n",
       "    </tr>\n",
       "    <tr>\n",
       "      <th>331</th>\n",
       "      <td>Shri Umamaheshwari Cottage | Room &amp; Sea views</td>\n",
       "      <td>Main Rd</td>\n",
       "      <td>Basic Room</td>\n",
       "      <td>3.7</td>\n",
       "      <td>167</td>\n",
       "      <td>859</td>\n",
       "      <td>8999</td>\n",
       "      <td>859</td>\n",
       "      <td>195</td>\n",
       "      <td>Gokarn</td>\n",
       "      <td>8140</td>\n",
       "      <td>1054</td>\n",
       "    </tr>\n",
       "    <tr>\n",
       "      <th>308</th>\n",
       "      <td>Shri Umamaheshwari Cottage | Room &amp; Sea views</td>\n",
       "      <td>Main Rd</td>\n",
       "      <td>Basic Room</td>\n",
       "      <td>3.7</td>\n",
       "      <td>167</td>\n",
       "      <td>859</td>\n",
       "      <td>8999</td>\n",
       "      <td>859</td>\n",
       "      <td>195</td>\n",
       "      <td>Goa</td>\n",
       "      <td>8140</td>\n",
       "      <td>1054</td>\n",
       "    </tr>\n",
       "    <tr>\n",
       "      <th>342</th>\n",
       "      <td>Hotel Keshav Residency near The Medicity Gurgaon</td>\n",
       "      <td>Sector 46</td>\n",
       "      <td>Standard Room</td>\n",
       "      <td>4.1</td>\n",
       "      <td>41</td>\n",
       "      <td>0</td>\n",
       "      <td>9700</td>\n",
       "      <td>1655</td>\n",
       "      <td>399</td>\n",
       "      <td>Gurgaon</td>\n",
       "      <td>8045</td>\n",
       "      <td>2054</td>\n",
       "    </tr>\n",
       "    <tr>\n",
       "      <th>1040</th>\n",
       "      <td>Hotel Vishnupriya</td>\n",
       "      <td>Near Lake Pichola</td>\n",
       "      <td>Deluxe Room</td>\n",
       "      <td>4.1</td>\n",
       "      <td>2319</td>\n",
       "      <td>0</td>\n",
       "      <td>9800</td>\n",
       "      <td>2794</td>\n",
       "      <td>500</td>\n",
       "      <td>Udaipur</td>\n",
       "      <td>7006</td>\n",
       "      <td>3294</td>\n",
       "    </tr>\n",
       "  </tbody>\n",
       "</table>\n",
       "</div>"
      ],
      "text/plain": [
       "                                            Hotel Name           Location  \\\n",
       "375                                Hotel V Hitech City        Hitech City   \n",
       "331      Shri Umamaheshwari Cottage | Room & Sea views            Main Rd   \n",
       "308      Shri Umamaheshwari Cottage | Room & Sea views            Main Rd   \n",
       "342   Hotel Keshav Residency near The Medicity Gurgaon          Sector 46   \n",
       "1040                                 Hotel Vishnupriya  Near Lake Pichola   \n",
       "\n",
       "          Room Type  Rating  Total_verified_Ratings  Cancellation_Fee  Price  \\\n",
       "375   Standard Room     3.8                    3826                 0  15000   \n",
       "331      Basic Room     3.7                     167               859   8999   \n",
       "308      Basic Room     3.7                     167               859   8999   \n",
       "342   Standard Room     4.1                      41                 0   9700   \n",
       "1040    Deluxe Room     4.1                    2319                 0   9800   \n",
       "\n",
       "      Offer_Price  Taxes and Fees       City  Discount  Total_Price  \n",
       "375          2188             471  Hyderabad     12812         2659  \n",
       "331           859             195     Gokarn      8140         1054  \n",
       "308           859             195        Goa      8140         1054  \n",
       "342          1655             399    Gurgaon      8045         2054  \n",
       "1040         2794             500    Udaipur      7006         3294  "
      ]
     },
     "execution_count": 68,
     "metadata": {},
     "output_type": "execute_result"
    }
   ],
   "source": [
    "top_discount=hotel.sort_values('Discount',ascending=False).head()\n",
    "top_discount"
   ]
  },
  {
   "cell_type": "code",
   "execution_count": 77,
   "id": "66b92d30",
   "metadata": {},
   "outputs": [
    {
     "data": {
      "image/png": "[encoded data removed]",
      "text/plain": [
       "<Figure size 432x288 with 1 Axes>"
      ]
     },
     "metadata": {},
     "output_type": "display_data"
    }
   ],
   "source": [
    "top_discount.plot('Hotel Name','Discount',marker='o',linestyle='--',ms=10,mec='r',mfc='y',color='green')\n",
    "plt.xticks(rotation=90)\n",
    "plt.show()"
   ]
  },
  {
   "cell_type": "markdown",
   "id": "88823753",
   "metadata": {},
   "source": [
    "Hotel V Hitech City (Hyderabad) offer the Maximum Discount in hotel booking:"
   ]
  },
  {
   "cell_type": "code",
   "execution_count": null,
   "id": "3d9e2a1a",
   "metadata": {},
   "outputs": [],
   "source": [
    "city_prices=hotel.groupby('City')['Total_Price'].mean().sort_values(ascending=False).reset_index()\n",
    "city_prices"
   ]
  },
  {
   "cell_type": "code",
   "execution_count": 66,
   "id": "ecd724d4",
   "metadata": {},
   "outputs": [
    {
     "data": {
      "image/png": "[encoded data removed]",
      "text/plain": [
       "<Figure size 1152x360 with 1 Axes>"
      ]
     },
     "metadata": {},
     "output_type": "display_data"
    }
   ],
   "source": [
    "plt.figure(figsize=(16,5))\n",
    "sns.barplot(x = 'City',y='Total_Price', data = city_prices,palette='pastel')\n",
    "sns.set(font_scale = 0.9)\n",
    "plt.xlabel('City',fontsize=17,color='teal')\n",
    "plt.ylabel('Total_Price',fontsize=17,color='teal')\n",
    "plt.xticks(rotation=90)\n",
    "# plt.legend(loc='lower right')\n",
    "plt.show()"
   ]
  },
  {
   "cell_type": "markdown",
   "id": "c7f0ed59",
   "metadata": {
    "scrolled": true
   },
   "source": [
    "Representation of the hotel price in descending order ,Here we can see that Daman has the highest booking price."
   ]
  },
  {
   "cell_type": "code",
   "execution_count": null,
   "id": "435ff8ff",
   "metadata": {},
   "outputs": [],
   "source": []
  },
  {
   "cell_type": "code",
   "execution_count": null,
   "id": "2f6dbb6c",
   "metadata": {},
   "outputs": [],
   "source": []
  }
 ],
 "metadata": {
  "kernelspec": {
   "display_name": "Python 3 (ipykernel)",
   "language": "python",
   "name": "python3"
  },
  "language_info": {
   "codemirror_mode": {
    "name": "ipython",
    "version": 3
   },
   "file_extension": ".py",
   "mimetype": "text/x-python",
   "name": "python",
   "nbconvert_exporter": "python",
   "pygments_lexer": "ipython3",
   "version": "3.9.12"
  }
 },
 "nbformat": 4,
 "nbformat_minor": 5
}
